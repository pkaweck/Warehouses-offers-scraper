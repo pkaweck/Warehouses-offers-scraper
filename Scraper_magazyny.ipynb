{
 "cells": [
  {
   "cell_type": "markdown",
   "id": "b1c5a7ef-fe87-43e3-9ed6-d43354094919",
   "metadata": {},
   "source": [
    "***Scraper dla ofert magazynowych***"
   ]
  },
  {
   "cell_type": "code",
   "execution_count": 1,
   "id": "c3f38575-57a4-48eb-94cb-e2b97c4a867c",
   "metadata": {},
   "outputs": [],
   "source": [
    "import pandas as pd\n",
    "import numpy as np\n",
    "import ssl\n",
    "ssl._create_default_https_context = ssl._create_unverified_context\n",
    "pd.set_option('display.max_columns', None)"
   ]
  },
  {
   "cell_type": "code",
   "execution_count": 2,
   "id": "2b1629c8-79d4-4508-a734-7d67f748efc6",
   "metadata": {},
   "outputs": [],
   "source": [
    "df = pd.read_html(\"https://baza.paih.gov.pl/offer/detail/22-221\")"
   ]
  },
  {
   "cell_type": "code",
   "execution_count": 3,
   "id": "b112a219-9c6f-4ffd-8877-ac254ce3fe49",
   "metadata": {},
   "outputs": [],
   "source": [
    "#Kod do sprawdzania czy jest do kontaktu itd. bo nie łapie jako długość tylko ma dwie opcje\n",
    "def sprawdzenie(zmienna):\n",
    "    if zmienna == 69:\n",
    "        zmienna = 69\n",
    "    elif zmienna == 3:\n",
    "\n",
    "        zmienna = 3\n",
    "\n",
    "    elif zmienna == 4:\n",
    "\n",
    "        zmienna = 4\n",
    "\n",
    "    elif zmienna == 5:\n",
    "\n",
    "        zmienna = 5\n",
    "\n",
    "    elif zmienna == 6:\n",
    "          zmienna = 6\n",
    "\n",
    "    elif zmienna == 7:\n",
    "          zmienna = 7\n",
    "    elif zmienna == 8:\n",
    "          zmienna = 8\n",
    "\n",
    "    elif zmienna == 9:\n",
    "          zmienna = 9\n",
    "\n",
    "    elif zmienna == 10:\n",
    "          zmienna = 10\n",
    "\n",
    "    elif zmienna == 11:\n",
    "          zmienna = 11\n",
    "\n",
    "    elif zmienna== 12:\n",
    "          zmienna = 12\n",
    "\n",
    "    elif zmienna == 13:\n",
    "\n",
    "          zmienna = 13\n",
    "    elif zmienna == 14:\n",
    "          zmienna = 14\n",
    "\n",
    "    elif zmienna == 15:\n",
    "          zmienna = 15\n",
    "\n",
    "    elif zmienna == 16:\n",
    "          zmienna = 16\n",
    "\n",
    "\n",
    "    elif zmienna == 17:\n",
    "          zmienna = 17\n",
    "\n",
    "\n",
    "    elif zmienna == 19:\n",
    "          zmienna = 19\n",
    "\n",
    "\n",
    "    elif zmienna == 20:\n",
    "          zmienna = 20\n",
    "\n",
    "    elif zmienna == 21:\n",
    "\n",
    "          zmienna = 21\n",
    "\n",
    "    elif zmienna == 22:\n",
    "          zmienna = 22\n",
    "\n",
    "    elif zmienna == 23:\n",
    "          zmienna = 23\n",
    "\n",
    "\n",
    "    elif zmienna == 24:\n",
    "          zmienna = 24\n",
    "\n",
    "    elif zmienna == 25:\n",
    "          zmienna = 25\n",
    "\n",
    "\n",
    "    elif zmienna == 26:\n",
    "          zmienna = 26\n",
    "\n",
    "    elif zmienna == 27:\n",
    "          zmienna = 27\n",
    "\n",
    "\n",
    "    elif zmienna == 28:\n",
    "          zmienna = 28\n",
    "\n",
    "    elif zmienna == 29:\n",
    "          zmienna = 29\n",
    "\n",
    "\n",
    "    elif zmienna == 30:\n",
    "          zmienna = 30\n",
    "\n",
    "\n",
    "    elif zmienna == 31:\n",
    "\n",
    "          zmienna = 31\n",
    "\n",
    "    elif zmienna == 32:\n",
    "          zmienna = 32\n",
    "\n",
    "\n",
    "    elif zmienna == 33:\n",
    "          zmienna = 33\n",
    "\n",
    "    elif zmienna == 34:\n",
    "          zmienna = 34\n",
    "\n",
    "\n",
    "    elif zmienna == 35:\n",
    "          zmienna = 35\n",
    "\n",
    "\n",
    "    elif zmienna == 36:\n",
    "          zmienna = 36\n",
    "\n",
    "\n",
    "    elif zmienna == 37:\n",
    "          zmienna = 37\n",
    "\n",
    "\n",
    "    elif  zmienna== 38:\n",
    "          zmienna = 38\n",
    "\n",
    "\n",
    "    elif zmienna == 39:\n",
    "          zmienna = 39\n",
    "\n",
    "\n",
    "    elif zmienna == 40:\n",
    "          zmienna = 40\n",
    "\n",
    "\n",
    "    elif zmienna == 41:\n",
    "          zmienna = 41\n",
    "\n",
    "    elif zmienna == 42:\n",
    "\n",
    "          zmienna = 42\n",
    "\n",
    "    elif zmienna == 43:\n",
    "\n",
    "          zmienna = 43\n",
    "\n",
    "    elif zmienna == 44:\n",
    "\n",
    "          zmienna = 44\n",
    "\n",
    "    elif zmienna == 45:\n",
    "\n",
    "          zmienna = 45\n",
    "\n",
    "    elif zmienna == 46:\n",
    "\n",
    "          zmienna = 46\n",
    "\n",
    "    elif zmienna == 47:\n",
    "\n",
    "          zmienna = 47\n",
    "\n",
    "    elif zmienna == 48:\n",
    "\n",
    "          zmienna = 48\n",
    "\n",
    "    elif zmienna == 49:\n",
    "\n",
    "          zmienna = 49\n",
    "\n",
    "    elif zmienna == 50:\n",
    "\n",
    "\n",
    "          zmienna = 50\n",
    "    elif zmienna == 51:\n",
    "\n",
    "          zmienna = 51\n",
    "\n",
    "    elif zmienna == 52:\n",
    "          zmienna = 52\n",
    "\n",
    "\n",
    "    elif zmienna == 53:\n",
    "          zmienna = 53\n",
    "\n",
    "\n",
    "    elif zmienna == 54:\n",
    "\n",
    "          zmienna = 54\n",
    "\n",
    "    elif zmienna == 55:\n",
    "\n",
    "          zmienna = 55\n",
    "\n",
    "    elif zmienna == 56:\n",
    "          zmienna = 56\n",
    "\n",
    "\n",
    "    elif zmienna == 57:\n",
    "          zmienna = 57\n",
    "\n",
    "\n",
    "\n",
    "    elif zmienna == 58:\n",
    "          zmienna = 58\n",
    "\n",
    "\n",
    "    elif zmienna == 59:\n",
    "          zmienna = 59\n",
    "\n",
    "    elif zmienna == 60:\n",
    "          zmienna =60\n",
    "    elif zmienna == 61:\n",
    "          zmienna = 61\n",
    "\n",
    "    elif zmienna == 62:\n",
    "\n",
    "          zmienna = 62\n",
    "    elif zmienna == 63:\n",
    "\n",
    "          zmienna = 63\n",
    "    elif zmienna == 64:\n",
    "          zmienna = 64\n",
    "\n",
    "    elif zmienna == 65:\n",
    "          zmienna = 65\n",
    "\n",
    "    elif zmienna == 66:\n",
    "\n",
    "          zmienna = 66\n",
    "    elif zmienna== 67:\n",
    "\n",
    "          zmienna = 67\n",
    "    elif zmienna == 68:\n",
    "\n",
    "          zmienna = 68\n",
    "    elif zmienna == 69:\n",
    "\n",
    "          zmienna = 69\n",
    "    elif zmienna == 70:\n",
    "          zmienna = 70\n",
    "\n",
    "    elif zmienna == 71:\n",
    "          zmienna = 71\n",
    "\n",
    "    elif zmienna == 72:\n",
    "          zmienna = 72\n",
    "\n",
    "    elif zmienna == 73:\n",
    "          zmienna = 73\n",
    "\n",
    "    elif zmienna == 74:\n",
    "\n",
    "          zmienna = 74\n",
    "    elif zmienna == 75:\n",
    "\n",
    "          zmienna = 75\n",
    "    elif zmienna == 76:\n",
    "          zmienna = 76\n",
    "\n",
    "    elif zmienna == 77:\n",
    "          zmienna = 77\n",
    "\n",
    "    elif zmienna == 78:\n",
    "          zmienna = 78\n",
    "    elif zmienna == 79:\n",
    "          zmienna = 79\n",
    "\n",
    "    elif zmienna == 80:\n",
    "\n",
    "          zmienna = 80\n",
    "\n",
    "\n",
    "    elif zmienna == 81:\n",
    "          zmienna = 81\n",
    "\n",
    "\n",
    "    elif zmienna == 82:\n",
    "          zmienna = 82\n",
    "\n",
    "    elif zmienna == 83:\n",
    "          zmienna = 83\n",
    "\n",
    "\n",
    "    elif zmienna == 84:\n",
    "          zmienna = 84\n",
    "\n",
    "    elif zmienna == 85:\n",
    "\n",
    "          zmienna = 85\n",
    "    elif zmienna == 86:\n",
    "\n",
    "          zmienna = 86\n",
    "    elif zmienna == 87:\n",
    "\n",
    "          zmienna = 87\n",
    "    return zmienna"
   ]
  },
  {
   "cell_type": "code",
   "execution_count": 4,
   "id": "81243f96-2b1d-490b-824f-76fb4ad3f71b",
   "metadata": {},
   "outputs": [],
   "source": [
    "# Poprawna funkcja do sprawdzania lokalizacji zmiennej\n",
    "def spr(zmienna):\n",
    "    \n",
    "    if len(zmienna) == 0:\n",
    "        zmienna = 0\n",
    "    elif zmienna == 0:\n",
    "        zmienna = 0\n",
    "    elif zmienna == 1:\n",
    "         zmienna = 1\n",
    "            \n",
    "    elif zmienna == 2:\n",
    "\n",
    "        zmienna=2\n",
    "\n",
    "    elif zmienna == 3:\n",
    "\n",
    "        zmienna = 3\n",
    "\n",
    "    elif zmienna == 4:\n",
    "\n",
    "        zmienna = 4\n",
    "\n",
    "    elif zmienna == 5:\n",
    "\n",
    "        zmienna = 5\n",
    "\n",
    "    elif zmienna == 6:\n",
    "          zmienna = 6\n",
    "\n",
    "    elif zmienna == 7:\n",
    "          zmienna = 7\n",
    "    elif zmienna == 8:\n",
    "          zmienna = 8\n",
    "\n",
    "    elif zmienna == 9:\n",
    "          zmienna = 9\n",
    "\n",
    "    elif zmienna == 10:\n",
    "          zmienna = 10\n",
    "\n",
    "    elif zmienna == 11:\n",
    "          zmienna = 11\n",
    "\n",
    "    elif zmienna== 12:\n",
    "          zmienna = 12\n",
    "\n",
    "    elif zmienna == 13:\n",
    "\n",
    "          zmienna = 13\n",
    "    elif zmienna == 14:\n",
    "          zmienna = 14\n",
    "\n",
    "    elif zmienna == 15:\n",
    "          zmienna = 15\n",
    "\n",
    "    elif zmienna == 16:\n",
    "          zmienna = 16\n",
    "\n",
    "\n",
    "    elif zmienna == 17:\n",
    "          zmienna = 17\n",
    "\n",
    "    elif zmienna == 18:\n",
    "        zmienna = 18\n",
    "\n",
    "    elif zmienna == 19:\n",
    "          zmienna = 19\n",
    "\n",
    "\n",
    "    elif zmienna == 20:\n",
    "          zmienna = 20\n",
    "\n",
    "    elif zmienna == 21:\n",
    "\n",
    "          zmienna = 21\n",
    "\n",
    "    elif zmienna == 22:\n",
    "          zmienna = 22\n",
    "\n",
    "    elif zmienna == 23:\n",
    "          zmienna = 23\n",
    "\n",
    "\n",
    "    elif zmienna == 24:\n",
    "          zmienna = 24\n",
    "\n",
    "    elif zmienna == 25:\n",
    "          zmienna = 25\n",
    "\n",
    "\n",
    "    elif zmienna == 26:\n",
    "          zmienna = 26\n",
    "\n",
    "    elif zmienna == 27:\n",
    "          zmienna = 27\n",
    "\n",
    "\n",
    "    elif zmienna == 28:\n",
    "          zmienna = 28\n",
    "\n",
    "    elif zmienna == 29:\n",
    "          zmienna = 29\n",
    "\n",
    "\n",
    "    elif zmienna == 30:\n",
    "          zmienna = 30\n",
    "\n",
    "\n",
    "    elif zmienna == 31:\n",
    "\n",
    "          zmienna = 31\n",
    "\n",
    "    elif zmienna == 32:\n",
    "          zmienna = 32\n",
    "\n",
    "\n",
    "    elif zmienna == 33:\n",
    "          zmienna = 33\n",
    "\n",
    "    elif zmienna == 34:\n",
    "          zmienna = 34\n",
    "\n",
    "\n",
    "    elif zmienna == 35:\n",
    "          zmienna = 35\n",
    "\n",
    "\n",
    "    elif zmienna == 36:\n",
    "          zmienna = 36\n",
    "\n",
    "\n",
    "    elif zmienna == 37:\n",
    "          zmienna = 37\n",
    "\n",
    "\n",
    "    elif  zmienna== 38:\n",
    "          zmienna = 38\n",
    "\n",
    "\n",
    "    elif zmienna == 39:\n",
    "          zmienna = 39\n",
    "\n",
    "\n",
    "    elif zmienna == 40:\n",
    "          zmienna = 40\n",
    "\n",
    "\n",
    "    elif zmienna == 41:\n",
    "          zmienna = 41\n",
    "\n",
    "    elif zmienna == 42:\n",
    "\n",
    "          zmienna = 42\n",
    "\n",
    "    elif zmienna == 43:\n",
    "\n",
    "          zmienna = 43\n",
    "\n",
    "    elif zmienna == 44:\n",
    "\n",
    "          zmienna = 44\n",
    "\n",
    "    elif zmienna == 45:\n",
    "\n",
    "          zmienna = 45\n",
    "\n",
    "    elif zmienna == 46:\n",
    "\n",
    "          zmienna = 46\n",
    "\n",
    "    elif zmienna == 47:\n",
    "\n",
    "          zmienna = 47\n",
    "\n",
    "    elif zmienna == 48:\n",
    "\n",
    "          zmienna = 48\n",
    "\n",
    "    elif zmienna == 49:\n",
    "\n",
    "          zmienna = 49\n",
    "\n",
    "    elif zmienna == 50:\n",
    "\n",
    "\n",
    "          zmienna = 50\n",
    "    elif zmienna == 51:\n",
    "\n",
    "          zmienna = 51\n",
    "\n",
    "    elif zmienna == 52:\n",
    "          zmienna = 52\n",
    "\n",
    "\n",
    "    elif zmienna == 53:\n",
    "          zmienna = 53\n",
    "\n",
    "\n",
    "    elif zmienna == 54:\n",
    "\n",
    "          zmienna = 54\n",
    "\n",
    "    elif zmienna == 55:\n",
    "\n",
    "          zmienna = 55\n",
    "\n",
    "    elif zmienna == 56:\n",
    "          zmienna = 56\n",
    "\n",
    "\n",
    "    elif zmienna == 57:\n",
    "          zmienna = 57\n",
    "\n",
    "\n",
    "\n",
    "    elif zmienna == 58:\n",
    "          zmienna = 58\n",
    "\n",
    "\n",
    "    elif zmienna == 59:\n",
    "          zmienna = 59\n",
    "\n",
    "    elif zmienna == 60:\n",
    "          zmienna =60\n",
    "    elif zmienna == 61:\n",
    "          zmienna = 61\n",
    "\n",
    "    elif zmienna == 62:\n",
    "\n",
    "          zmienna = 62\n",
    "    elif zmienna == 63:\n",
    "\n",
    "          zmienna = 63\n",
    "    elif zmienna == 64:\n",
    "          zmienna = 64\n",
    "\n",
    "    elif zmienna == 65:\n",
    "          zmienna = 65\n",
    "\n",
    "    elif zmienna == 66:\n",
    "\n",
    "          zmienna = 66\n",
    "    elif zmienna== 67:\n",
    "\n",
    "          zmienna = 67\n",
    "    elif zmienna == 68:\n",
    "\n",
    "          zmienna = 68\n",
    "    elif zmienna == 69:\n",
    "\n",
    "          zmienna = 69\n",
    "    elif zmienna == 70:\n",
    "          zmienna = 70\n",
    "\n",
    "    elif zmienna == 71:\n",
    "          zmienna = 71\n",
    "\n",
    "    elif zmienna == 72:\n",
    "          zmienna = 72\n",
    "\n",
    "    elif zmienna == 73:\n",
    "          zmienna = 73\n",
    "\n",
    "    elif zmienna == 74:\n",
    "\n",
    "          zmienna = 74\n",
    "    elif zmienna == 75:\n",
    "\n",
    "          zmienna = 75\n",
    "    elif zmienna == 76:\n",
    "          zmienna = 76\n",
    "\n",
    "    elif zmienna == 77:\n",
    "          zmienna = 77\n",
    "\n",
    "    elif zmienna == 78:\n",
    "          zmienna = 78\n",
    "    elif zmienna == 79:\n",
    "          zmienna = 79\n",
    "\n",
    "    elif zmienna == 80:\n",
    "\n",
    "          zmienna = 80\n",
    "\n",
    "\n",
    "    elif zmienna == 81:\n",
    "          zmienna = 81\n",
    "\n",
    "\n",
    "    elif zmienna == 82:\n",
    "          zmienna = 82\n",
    "\n",
    "    elif zmienna == 83:\n",
    "          zmienna = 83\n",
    "\n",
    "\n",
    "    elif zmienna == 84:\n",
    "          zmienna = 84\n",
    "\n",
    "    elif zmienna == 85:\n",
    "\n",
    "          zmienna = 85\n",
    "    elif zmienna == 86:\n",
    "\n",
    "          zmienna = 86\n",
    "    elif zmienna == 87:\n",
    "\n",
    "          zmienna = 87\n",
    "    return zmienna"
   ]
  },
  {
   "cell_type": "code",
   "execution_count": 5,
   "id": "dc77bf85-fb7e-4101-9dd6-357335e7e3b6",
   "metadata": {},
   "outputs": [],
   "source": [
    "def sprawdzenie_typu(alfabet,typ):\n",
    "    try:\n",
    "        if df[0].iloc[sprawdzenie(alfabet[0]),0] == typ:\n",
    "            value = df[0].iloc[sprawdzenie(alfabet[0]),3]\n",
    "        elif df[0].iloc[sprawdzenie(alfabet[1]),0] == typ:\n",
    "            value = df[0].iloc[sprawdzenie(alfabet[1]),3]\n",
    "        elif df[0].iloc[sprawdzenie(alfabet[2]),0] == typ:\n",
    "            value = df[0].iloc[sprawdzenie(alfabet[2]),3]\n",
    "        elif df[0].iloc[sprawdzenie(alfabet[3]),0] == typ:\n",
    "            value = df[0].iloc[sprawdzenie(alfabet[3]),3]\n",
    "        elif df[0].iloc[sprawdzenie(alfabet[4]),0] == typ:\n",
    "            value = df[0].iloc[sprawdzenie(alfabet[4]),3]\n",
    "        elif df[0].iloc[sprawdzenie(alfabet[5]),0] == typ:\n",
    "            value = df[0].iloc[sprawdzenie(alfabet[5]),3]\n",
    "        else:\n",
    "            value = \"\"\n",
    "    except IndexError: print(\"Błąd\") \n",
    "    return value"
   ]
  },
  {
   "cell_type": "code",
   "execution_count": 6,
   "id": "1a65c61b-ba50-4aa9-88c5-612a46e9d5b6",
   "metadata": {},
   "outputs": [],
   "source": [
    "def formula_puste(zmienna):\n",
    "    try:\n",
    "        if zmienna == df[0].iloc[0,1]:\n",
    "            value = \"\"\n",
    "        else:\n",
    "            value = zmienna\n",
    "    except: IndexError: \"\"\n",
    "            \n",
    "    return value"
   ]
  },
  {
   "cell_type": "code",
   "execution_count": 7,
   "id": "3b12ce89-acfa-4f30-999c-19bd47fb3af7",
   "metadata": {},
   "outputs": [],
   "source": [
    "#DF2 do tworzenia pierwszego elementu w tabeli\n",
    "df2 = pd.DataFrame({\"Name of production hall\":df[0].iloc[1,1],\n",
    "'Site name and plot numbers':df[0].iloc[2,1],\n",
    "'Town / Commune':df[0].iloc[3,1],\n",
    "'Address (street, house number)':df[0].iloc[4,1],\n",
    "\"District\":df[0].iloc[5,1],\n",
    "\"Province (Voivodship)\":df[0].iloc[6,1],\n",
    "\"The plot is a part of Special Economic Zone\":df[0].iloc[7,1],\n",
    "\"Special Economic Zone\":df[0].iloc[8,1],\n",
    "\"Technology/Industrial Park\":df[0].iloc[10,1],\n",
    "\"Name, surname\":df[0].iloc[12,1],\n",
    "'Phone':df[0].iloc[14,1],\n",
    "'e-mail':df[0].iloc[15,2],\n",
    "\"Area [m²]\":df[0].iloc[20,2],\n",
    "\"Year of construction\":df[0].iloc[21,2],\n",
    "\"Height [m]\":df[0].iloc[23,2],\n",
    "\"Number of storeys\":df[0].iloc[24,2],\n",
    "\"Floor carrying capacity [kg/m²]\":df[0].iloc[25,2],\n",
    "\"Floor car\":df[0].iloc[27,2],\n",
    "\"Total area of land [m²]:\":df[0].iloc[28,2],\n",
    "\"Nearest motorway / express road / national road\":df[0].iloc[30,2],\n",
    "\"Nearest province capital\":df[0].iloc[31,2],\n",
    "\"Nearest international airport\":df[0].iloc[32,2],\n",
    "\"Sea and river ports located up to 200 km\":df[0].iloc[33,2],\n",
    "\"Railway line\":df[0].iloc[34,2],\n",
    "\"Electricity\":df[0].iloc[36,2],\n",
    "\"Water for social purposes\":df[0].iloc[37,2],\n",
    "\"Gas\":df[0].iloc[38,2],\n",
    "\"Heating\":df[0].iloc[39,2],\n",
    "\"Sewage discharge\":df[0].iloc[40,2],\n",
    "\"Access road for trucks\":df[0].iloc[42,2],\n",
    "\"Overhead cranes\":df[0].iloc[43,2],\n",
    "\"Railway siding\":df[0].iloc[44,2],\n",
    "\"Ownership:\":df[0].iloc[44,2],\n",
    "\"Lease\":df[0].iloc[44,2],\n",
    "\"Price in PLN, including hall and land\":df[0].iloc[44,2],\n",
    "\"Forms of support at the local level\":df[0].iloc[44,2],\n",
    "\"Main owner type\":df[0].iloc[41,2],\n",
    "\"Owner\":df[0].iloc[43,2]},index=['1'])"
   ]
  },
  {
   "cell_type": "code",
   "execution_count": 8,
   "id": "8f7997f9-e49e-4ab3-b5dd-36e7a16e2d57",
   "metadata": {},
   "outputs": [],
   "source": [
    "Lista_obiektów = ['22-285',\n",
    "'22-221',\n",
    "'22-299',\n",
    "'30-732',\n",
    "'02-515',\n",
    "'02-490',\n",
    "'18-247',\n",
    "'22-483',\n",
    "'28-349',\n",
    "'26-164',\n",
    "'26-168',\n",
    "'26-170',\n",
    "'26-158',\n",
    "'30-721',\n",
    "'18-221',\n",
    "'22-251',\n",
    "'28-357',\n",
    "'02-510',\n",
    "'16-351',\n",
    "'16-350',\n",
    "'02-509',\n",
    "'30-717',\n",
    "'30-411',\n",
    "'32-383',\n",
    "'16-339',\n",
    "'16-340',\n",
    "'22-219',\n",
    "'04-317',\n",
    "'22-286',\n",
    "'06-145',\n",
    "'18-256',\n",
    "'18-254',\n",
    "'18-255',\n",
    "'04-514',\n",
    "'30-298',\n",
    "'18-252',\n",
    "'32-414',\n",
    "'32-415',\n",
    "'18-249',\n",
    "'16-344',\n",
    "'16-338',\n",
    "'16-336',\n",
    "'16-337',\n",
    "'10-319',\n",
    "'18-156',\n",
    "'02-485',\n",
    "'04-289',\n",
    "'04-290',\n",
    "'04-287',\n",
    "'04-251',\n",
    "'30-511',\n",
    "'30-407',\n",
    "'12-372',\n",
    "'12-374',\n",
    "'30-513',\n",
    "'04-494',\n",
    "'12-226',\n",
    "'04-322',\n",
    "'16-346',\n",
    "'24-339',\n",
    "'04-507',\n",
    "'24-402',\n",
    "'30-658',\n",
    "'02-487',\n",
    "'22-468',\n",
    "'16-318',\n",
    "'16-202',\n",
    "'16-204',\n",
    "'16-205',\n",
    "'22-471',\n",
    "'22-470',\n",
    "'22-458',\n",
    "'22-447',\n",
    "'14-177',\n",
    "'32-401',\n",
    "'08-212',\n",
    "'30-620',\n",
    "'30-372',\n",
    "'22-453',\n",
    "'22-436',\n",
    "'10-390',\n",
    "'24-455',\n",
    "'16-345',\n",
    "'06-196',\n",
    "'04-500',\n",
    "'04-499',\n",
    "'32-393',\n",
    "'04-446',\n",
    "'16-153',\n",
    "'16-316',\n",
    "'16-315',\n",
    "'22-376',\n",
    "'18-229',\n",
    "'12-262']"
   ]
  },
  {
   "cell_type": "code",
   "execution_count": 9,
   "id": "171a5568-de43-4430-9519-c9103302aab9",
   "metadata": {},
   "outputs": [
    {
     "name": "stderr",
     "output_type": "stream",
     "text": [
      "C:\\Users\\kawec\\AppData\\Local\\Temp\\ipykernel_11964\\3026143099.py:91: FutureWarning: The frame.append method is deprecated and will be removed from pandas in a future version. Use pandas.concat instead.\n",
      "  df2 = df2.append(df1)\n"
     ]
    },
    {
     "name": "stdout",
     "output_type": "stream",
     "text": [
      "22-285 został dodany do listy\n"
     ]
    },
    {
     "name": "stderr",
     "output_type": "stream",
     "text": [
      "C:\\Users\\kawec\\AppData\\Local\\Temp\\ipykernel_11964\\3026143099.py:91: FutureWarning: The frame.append method is deprecated and will be removed from pandas in a future version. Use pandas.concat instead.\n",
      "  df2 = df2.append(df1)\n"
     ]
    },
    {
     "name": "stdout",
     "output_type": "stream",
     "text": [
      "22-221 został dodany do listy\n"
     ]
    },
    {
     "name": "stderr",
     "output_type": "stream",
     "text": [
      "C:\\Users\\kawec\\AppData\\Local\\Temp\\ipykernel_11964\\3026143099.py:91: FutureWarning: The frame.append method is deprecated and will be removed from pandas in a future version. Use pandas.concat instead.\n",
      "  df2 = df2.append(df1)\n"
     ]
    },
    {
     "name": "stdout",
     "output_type": "stream",
     "text": [
      "22-299 został dodany do listy\n"
     ]
    },
    {
     "name": "stderr",
     "output_type": "stream",
     "text": [
      "C:\\Users\\kawec\\AppData\\Local\\Temp\\ipykernel_11964\\3026143099.py:91: FutureWarning: The frame.append method is deprecated and will be removed from pandas in a future version. Use pandas.concat instead.\n",
      "  df2 = df2.append(df1)\n"
     ]
    },
    {
     "name": "stdout",
     "output_type": "stream",
     "text": [
      "30-732 został dodany do listy\n"
     ]
    },
    {
     "name": "stderr",
     "output_type": "stream",
     "text": [
      "C:\\Users\\kawec\\AppData\\Local\\Temp\\ipykernel_11964\\3026143099.py:91: FutureWarning: The frame.append method is deprecated and will be removed from pandas in a future version. Use pandas.concat instead.\n",
      "  df2 = df2.append(df1)\n"
     ]
    },
    {
     "name": "stdout",
     "output_type": "stream",
     "text": [
      "02-515 został dodany do listy\n"
     ]
    },
    {
     "name": "stderr",
     "output_type": "stream",
     "text": [
      "C:\\Users\\kawec\\AppData\\Local\\Temp\\ipykernel_11964\\3026143099.py:91: FutureWarning: The frame.append method is deprecated and will be removed from pandas in a future version. Use pandas.concat instead.\n",
      "  df2 = df2.append(df1)\n"
     ]
    },
    {
     "name": "stdout",
     "output_type": "stream",
     "text": [
      "18-247 został dodany do listy\n"
     ]
    },
    {
     "name": "stderr",
     "output_type": "stream",
     "text": [
      "C:\\Users\\kawec\\AppData\\Local\\Temp\\ipykernel_11964\\3026143099.py:91: FutureWarning: The frame.append method is deprecated and will be removed from pandas in a future version. Use pandas.concat instead.\n",
      "  df2 = df2.append(df1)\n"
     ]
    },
    {
     "name": "stdout",
     "output_type": "stream",
     "text": [
      "26-164 został dodany do listy\n"
     ]
    },
    {
     "name": "stderr",
     "output_type": "stream",
     "text": [
      "C:\\Users\\kawec\\AppData\\Local\\Temp\\ipykernel_11964\\3026143099.py:91: FutureWarning: The frame.append method is deprecated and will be removed from pandas in a future version. Use pandas.concat instead.\n",
      "  df2 = df2.append(df1)\n"
     ]
    },
    {
     "name": "stdout",
     "output_type": "stream",
     "text": [
      "26-168 został dodany do listy\n"
     ]
    },
    {
     "name": "stderr",
     "output_type": "stream",
     "text": [
      "C:\\Users\\kawec\\AppData\\Local\\Temp\\ipykernel_11964\\3026143099.py:91: FutureWarning: The frame.append method is deprecated and will be removed from pandas in a future version. Use pandas.concat instead.\n",
      "  df2 = df2.append(df1)\n"
     ]
    },
    {
     "name": "stdout",
     "output_type": "stream",
     "text": [
      "26-170 został dodany do listy\n"
     ]
    },
    {
     "name": "stderr",
     "output_type": "stream",
     "text": [
      "C:\\Users\\kawec\\AppData\\Local\\Temp\\ipykernel_11964\\3026143099.py:91: FutureWarning: The frame.append method is deprecated and will be removed from pandas in a future version. Use pandas.concat instead.\n",
      "  df2 = df2.append(df1)\n"
     ]
    },
    {
     "name": "stdout",
     "output_type": "stream",
     "text": [
      "30-721 został dodany do listy\n"
     ]
    },
    {
     "name": "stderr",
     "output_type": "stream",
     "text": [
      "C:\\Users\\kawec\\AppData\\Local\\Temp\\ipykernel_11964\\3026143099.py:91: FutureWarning: The frame.append method is deprecated and will be removed from pandas in a future version. Use pandas.concat instead.\n",
      "  df2 = df2.append(df1)\n"
     ]
    },
    {
     "name": "stdout",
     "output_type": "stream",
     "text": [
      "18-221 został dodany do listy\n"
     ]
    },
    {
     "name": "stderr",
     "output_type": "stream",
     "text": [
      "C:\\Users\\kawec\\AppData\\Local\\Temp\\ipykernel_11964\\3026143099.py:91: FutureWarning: The frame.append method is deprecated and will be removed from pandas in a future version. Use pandas.concat instead.\n",
      "  df2 = df2.append(df1)\n"
     ]
    },
    {
     "name": "stdout",
     "output_type": "stream",
     "text": [
      "22-251 został dodany do listy\n"
     ]
    },
    {
     "name": "stderr",
     "output_type": "stream",
     "text": [
      "C:\\Users\\kawec\\AppData\\Local\\Temp\\ipykernel_11964\\3026143099.py:91: FutureWarning: The frame.append method is deprecated and will be removed from pandas in a future version. Use pandas.concat instead.\n",
      "  df2 = df2.append(df1)\n"
     ]
    },
    {
     "name": "stdout",
     "output_type": "stream",
     "text": [
      "28-357 został dodany do listy\n"
     ]
    },
    {
     "name": "stderr",
     "output_type": "stream",
     "text": [
      "C:\\Users\\kawec\\AppData\\Local\\Temp\\ipykernel_11964\\3026143099.py:91: FutureWarning: The frame.append method is deprecated and will be removed from pandas in a future version. Use pandas.concat instead.\n",
      "  df2 = df2.append(df1)\n"
     ]
    },
    {
     "name": "stdout",
     "output_type": "stream",
     "text": [
      "30-411 został dodany do listy\n"
     ]
    },
    {
     "name": "stderr",
     "output_type": "stream",
     "text": [
      "C:\\Users\\kawec\\AppData\\Local\\Temp\\ipykernel_11964\\3026143099.py:91: FutureWarning: The frame.append method is deprecated and will be removed from pandas in a future version. Use pandas.concat instead.\n",
      "  df2 = df2.append(df1)\n"
     ]
    },
    {
     "name": "stdout",
     "output_type": "stream",
     "text": [
      "16-339 został dodany do listy\n"
     ]
    },
    {
     "name": "stderr",
     "output_type": "stream",
     "text": [
      "C:\\Users\\kawec\\AppData\\Local\\Temp\\ipykernel_11964\\3026143099.py:91: FutureWarning: The frame.append method is deprecated and will be removed from pandas in a future version. Use pandas.concat instead.\n",
      "  df2 = df2.append(df1)\n"
     ]
    },
    {
     "name": "stdout",
     "output_type": "stream",
     "text": [
      "16-340 został dodany do listy\n"
     ]
    },
    {
     "name": "stderr",
     "output_type": "stream",
     "text": [
      "C:\\Users\\kawec\\AppData\\Local\\Temp\\ipykernel_11964\\3026143099.py:91: FutureWarning: The frame.append method is deprecated and will be removed from pandas in a future version. Use pandas.concat instead.\n",
      "  df2 = df2.append(df1)\n"
     ]
    },
    {
     "name": "stdout",
     "output_type": "stream",
     "text": [
      "22-219 został dodany do listy\n"
     ]
    },
    {
     "name": "stderr",
     "output_type": "stream",
     "text": [
      "C:\\Users\\kawec\\AppData\\Local\\Temp\\ipykernel_11964\\3026143099.py:91: FutureWarning: The frame.append method is deprecated and will be removed from pandas in a future version. Use pandas.concat instead.\n",
      "  df2 = df2.append(df1)\n"
     ]
    },
    {
     "name": "stdout",
     "output_type": "stream",
     "text": [
      "04-317 został dodany do listy\n"
     ]
    },
    {
     "name": "stderr",
     "output_type": "stream",
     "text": [
      "C:\\Users\\kawec\\AppData\\Local\\Temp\\ipykernel_11964\\3026143099.py:91: FutureWarning: The frame.append method is deprecated and will be removed from pandas in a future version. Use pandas.concat instead.\n",
      "  df2 = df2.append(df1)\n"
     ]
    },
    {
     "name": "stdout",
     "output_type": "stream",
     "text": [
      "22-286 został dodany do listy\n"
     ]
    },
    {
     "name": "stderr",
     "output_type": "stream",
     "text": [
      "C:\\Users\\kawec\\AppData\\Local\\Temp\\ipykernel_11964\\3026143099.py:91: FutureWarning: The frame.append method is deprecated and will be removed from pandas in a future version. Use pandas.concat instead.\n",
      "  df2 = df2.append(df1)\n"
     ]
    },
    {
     "name": "stdout",
     "output_type": "stream",
     "text": [
      "06-145 został dodany do listy\n"
     ]
    },
    {
     "name": "stderr",
     "output_type": "stream",
     "text": [
      "C:\\Users\\kawec\\AppData\\Local\\Temp\\ipykernel_11964\\3026143099.py:91: FutureWarning: The frame.append method is deprecated and will be removed from pandas in a future version. Use pandas.concat instead.\n",
      "  df2 = df2.append(df1)\n"
     ]
    },
    {
     "name": "stdout",
     "output_type": "stream",
     "text": [
      "18-256 został dodany do listy\n"
     ]
    },
    {
     "name": "stderr",
     "output_type": "stream",
     "text": [
      "C:\\Users\\kawec\\AppData\\Local\\Temp\\ipykernel_11964\\3026143099.py:91: FutureWarning: The frame.append method is deprecated and will be removed from pandas in a future version. Use pandas.concat instead.\n",
      "  df2 = df2.append(df1)\n"
     ]
    },
    {
     "name": "stdout",
     "output_type": "stream",
     "text": [
      "18-254 został dodany do listy\n"
     ]
    },
    {
     "name": "stderr",
     "output_type": "stream",
     "text": [
      "C:\\Users\\kawec\\AppData\\Local\\Temp\\ipykernel_11964\\3026143099.py:91: FutureWarning: The frame.append method is deprecated and will be removed from pandas in a future version. Use pandas.concat instead.\n",
      "  df2 = df2.append(df1)\n"
     ]
    },
    {
     "name": "stdout",
     "output_type": "stream",
     "text": [
      "18-255 został dodany do listy\n"
     ]
    },
    {
     "name": "stderr",
     "output_type": "stream",
     "text": [
      "C:\\Users\\kawec\\AppData\\Local\\Temp\\ipykernel_11964\\3026143099.py:91: FutureWarning: The frame.append method is deprecated and will be removed from pandas in a future version. Use pandas.concat instead.\n",
      "  df2 = df2.append(df1)\n"
     ]
    },
    {
     "name": "stdout",
     "output_type": "stream",
     "text": [
      "04-514 został dodany do listy\n"
     ]
    },
    {
     "name": "stderr",
     "output_type": "stream",
     "text": [
      "C:\\Users\\kawec\\AppData\\Local\\Temp\\ipykernel_11964\\3026143099.py:91: FutureWarning: The frame.append method is deprecated and will be removed from pandas in a future version. Use pandas.concat instead.\n",
      "  df2 = df2.append(df1)\n"
     ]
    },
    {
     "name": "stdout",
     "output_type": "stream",
     "text": [
      "30-298 został dodany do listy\n"
     ]
    },
    {
     "name": "stderr",
     "output_type": "stream",
     "text": [
      "C:\\Users\\kawec\\AppData\\Local\\Temp\\ipykernel_11964\\3026143099.py:91: FutureWarning: The frame.append method is deprecated and will be removed from pandas in a future version. Use pandas.concat instead.\n",
      "  df2 = df2.append(df1)\n"
     ]
    },
    {
     "name": "stdout",
     "output_type": "stream",
     "text": [
      "18-249 został dodany do listy\n"
     ]
    },
    {
     "name": "stderr",
     "output_type": "stream",
     "text": [
      "C:\\Users\\kawec\\AppData\\Local\\Temp\\ipykernel_11964\\3026143099.py:91: FutureWarning: The frame.append method is deprecated and will be removed from pandas in a future version. Use pandas.concat instead.\n",
      "  df2 = df2.append(df1)\n"
     ]
    },
    {
     "name": "stdout",
     "output_type": "stream",
     "text": [
      "16-338 został dodany do listy\n"
     ]
    },
    {
     "name": "stderr",
     "output_type": "stream",
     "text": [
      "C:\\Users\\kawec\\AppData\\Local\\Temp\\ipykernel_11964\\3026143099.py:91: FutureWarning: The frame.append method is deprecated and will be removed from pandas in a future version. Use pandas.concat instead.\n",
      "  df2 = df2.append(df1)\n"
     ]
    },
    {
     "name": "stdout",
     "output_type": "stream",
     "text": [
      "16-336 został dodany do listy\n"
     ]
    },
    {
     "name": "stderr",
     "output_type": "stream",
     "text": [
      "C:\\Users\\kawec\\AppData\\Local\\Temp\\ipykernel_11964\\3026143099.py:91: FutureWarning: The frame.append method is deprecated and will be removed from pandas in a future version. Use pandas.concat instead.\n",
      "  df2 = df2.append(df1)\n"
     ]
    },
    {
     "name": "stdout",
     "output_type": "stream",
     "text": [
      "16-337 został dodany do listy\n"
     ]
    },
    {
     "name": "stderr",
     "output_type": "stream",
     "text": [
      "C:\\Users\\kawec\\AppData\\Local\\Temp\\ipykernel_11964\\3026143099.py:91: FutureWarning: The frame.append method is deprecated and will be removed from pandas in a future version. Use pandas.concat instead.\n",
      "  df2 = df2.append(df1)\n"
     ]
    },
    {
     "name": "stdout",
     "output_type": "stream",
     "text": [
      "18-156 został dodany do listy\n"
     ]
    },
    {
     "name": "stderr",
     "output_type": "stream",
     "text": [
      "C:\\Users\\kawec\\AppData\\Local\\Temp\\ipykernel_11964\\3026143099.py:91: FutureWarning: The frame.append method is deprecated and will be removed from pandas in a future version. Use pandas.concat instead.\n",
      "  df2 = df2.append(df1)\n"
     ]
    },
    {
     "name": "stdout",
     "output_type": "stream",
     "text": [
      "04-289 został dodany do listy\n"
     ]
    },
    {
     "name": "stderr",
     "output_type": "stream",
     "text": [
      "C:\\Users\\kawec\\AppData\\Local\\Temp\\ipykernel_11964\\3026143099.py:91: FutureWarning: The frame.append method is deprecated and will be removed from pandas in a future version. Use pandas.concat instead.\n",
      "  df2 = df2.append(df1)\n"
     ]
    },
    {
     "name": "stdout",
     "output_type": "stream",
     "text": [
      "04-290 został dodany do listy\n"
     ]
    },
    {
     "name": "stderr",
     "output_type": "stream",
     "text": [
      "C:\\Users\\kawec\\AppData\\Local\\Temp\\ipykernel_11964\\3026143099.py:91: FutureWarning: The frame.append method is deprecated and will be removed from pandas in a future version. Use pandas.concat instead.\n",
      "  df2 = df2.append(df1)\n"
     ]
    },
    {
     "name": "stdout",
     "output_type": "stream",
     "text": [
      "04-287 został dodany do listy\n"
     ]
    },
    {
     "name": "stderr",
     "output_type": "stream",
     "text": [
      "C:\\Users\\kawec\\AppData\\Local\\Temp\\ipykernel_11964\\3026143099.py:91: FutureWarning: The frame.append method is deprecated and will be removed from pandas in a future version. Use pandas.concat instead.\n",
      "  df2 = df2.append(df1)\n"
     ]
    },
    {
     "name": "stdout",
     "output_type": "stream",
     "text": [
      "04-251 został dodany do listy\n"
     ]
    },
    {
     "name": "stderr",
     "output_type": "stream",
     "text": [
      "C:\\Users\\kawec\\AppData\\Local\\Temp\\ipykernel_11964\\3026143099.py:91: FutureWarning: The frame.append method is deprecated and will be removed from pandas in a future version. Use pandas.concat instead.\n",
      "  df2 = df2.append(df1)\n"
     ]
    },
    {
     "name": "stdout",
     "output_type": "stream",
     "text": [
      "30-511 został dodany do listy\n"
     ]
    },
    {
     "name": "stderr",
     "output_type": "stream",
     "text": [
      "C:\\Users\\kawec\\AppData\\Local\\Temp\\ipykernel_11964\\3026143099.py:91: FutureWarning: The frame.append method is deprecated and will be removed from pandas in a future version. Use pandas.concat instead.\n",
      "  df2 = df2.append(df1)\n"
     ]
    },
    {
     "name": "stdout",
     "output_type": "stream",
     "text": [
      "30-407 został dodany do listy\n"
     ]
    },
    {
     "name": "stderr",
     "output_type": "stream",
     "text": [
      "C:\\Users\\kawec\\AppData\\Local\\Temp\\ipykernel_11964\\3026143099.py:91: FutureWarning: The frame.append method is deprecated and will be removed from pandas in a future version. Use pandas.concat instead.\n",
      "  df2 = df2.append(df1)\n"
     ]
    },
    {
     "name": "stdout",
     "output_type": "stream",
     "text": [
      "12-372 został dodany do listy\n"
     ]
    },
    {
     "name": "stderr",
     "output_type": "stream",
     "text": [
      "C:\\Users\\kawec\\AppData\\Local\\Temp\\ipykernel_11964\\3026143099.py:91: FutureWarning: The frame.append method is deprecated and will be removed from pandas in a future version. Use pandas.concat instead.\n",
      "  df2 = df2.append(df1)\n"
     ]
    },
    {
     "name": "stdout",
     "output_type": "stream",
     "text": [
      "12-374 został dodany do listy\n"
     ]
    },
    {
     "name": "stderr",
     "output_type": "stream",
     "text": [
      "C:\\Users\\kawec\\AppData\\Local\\Temp\\ipykernel_11964\\3026143099.py:91: FutureWarning: The frame.append method is deprecated and will be removed from pandas in a future version. Use pandas.concat instead.\n",
      "  df2 = df2.append(df1)\n"
     ]
    },
    {
     "name": "stdout",
     "output_type": "stream",
     "text": [
      "30-513 został dodany do listy\n"
     ]
    },
    {
     "name": "stderr",
     "output_type": "stream",
     "text": [
      "C:\\Users\\kawec\\AppData\\Local\\Temp\\ipykernel_11964\\3026143099.py:91: FutureWarning: The frame.append method is deprecated and will be removed from pandas in a future version. Use pandas.concat instead.\n",
      "  df2 = df2.append(df1)\n"
     ]
    },
    {
     "name": "stdout",
     "output_type": "stream",
     "text": [
      "24-339 został dodany do listy\n"
     ]
    },
    {
     "name": "stderr",
     "output_type": "stream",
     "text": [
      "C:\\Users\\kawec\\AppData\\Local\\Temp\\ipykernel_11964\\3026143099.py:91: FutureWarning: The frame.append method is deprecated and will be removed from pandas in a future version. Use pandas.concat instead.\n",
      "  df2 = df2.append(df1)\n"
     ]
    },
    {
     "name": "stdout",
     "output_type": "stream",
     "text": [
      "04-507 został dodany do listy\n"
     ]
    },
    {
     "name": "stderr",
     "output_type": "stream",
     "text": [
      "C:\\Users\\kawec\\AppData\\Local\\Temp\\ipykernel_11964\\3026143099.py:91: FutureWarning: The frame.append method is deprecated and will be removed from pandas in a future version. Use pandas.concat instead.\n",
      "  df2 = df2.append(df1)\n"
     ]
    },
    {
     "name": "stdout",
     "output_type": "stream",
     "text": [
      "30-658 został dodany do listy\n"
     ]
    },
    {
     "name": "stderr",
     "output_type": "stream",
     "text": [
      "C:\\Users\\kawec\\AppData\\Local\\Temp\\ipykernel_11964\\3026143099.py:91: FutureWarning: The frame.append method is deprecated and will be removed from pandas in a future version. Use pandas.concat instead.\n",
      "  df2 = df2.append(df1)\n"
     ]
    },
    {
     "name": "stdout",
     "output_type": "stream",
     "text": [
      "02-487 został dodany do listy\n"
     ]
    },
    {
     "name": "stderr",
     "output_type": "stream",
     "text": [
      "C:\\Users\\kawec\\AppData\\Local\\Temp\\ipykernel_11964\\3026143099.py:91: FutureWarning: The frame.append method is deprecated and will be removed from pandas in a future version. Use pandas.concat instead.\n",
      "  df2 = df2.append(df1)\n"
     ]
    },
    {
     "name": "stdout",
     "output_type": "stream",
     "text": [
      "22-468 został dodany do listy\n"
     ]
    },
    {
     "name": "stderr",
     "output_type": "stream",
     "text": [
      "C:\\Users\\kawec\\AppData\\Local\\Temp\\ipykernel_11964\\3026143099.py:91: FutureWarning: The frame.append method is deprecated and will be removed from pandas in a future version. Use pandas.concat instead.\n",
      "  df2 = df2.append(df1)\n"
     ]
    },
    {
     "name": "stdout",
     "output_type": "stream",
     "text": [
      "22-471 został dodany do listy\n"
     ]
    },
    {
     "name": "stderr",
     "output_type": "stream",
     "text": [
      "C:\\Users\\kawec\\AppData\\Local\\Temp\\ipykernel_11964\\3026143099.py:91: FutureWarning: The frame.append method is deprecated and will be removed from pandas in a future version. Use pandas.concat instead.\n",
      "  df2 = df2.append(df1)\n"
     ]
    },
    {
     "name": "stdout",
     "output_type": "stream",
     "text": [
      "22-470 został dodany do listy\n"
     ]
    },
    {
     "name": "stderr",
     "output_type": "stream",
     "text": [
      "C:\\Users\\kawec\\AppData\\Local\\Temp\\ipykernel_11964\\3026143099.py:91: FutureWarning: The frame.append method is deprecated and will be removed from pandas in a future version. Use pandas.concat instead.\n",
      "  df2 = df2.append(df1)\n"
     ]
    },
    {
     "name": "stdout",
     "output_type": "stream",
     "text": [
      "22-447 został dodany do listy\n"
     ]
    },
    {
     "name": "stderr",
     "output_type": "stream",
     "text": [
      "C:\\Users\\kawec\\AppData\\Local\\Temp\\ipykernel_11964\\3026143099.py:91: FutureWarning: The frame.append method is deprecated and will be removed from pandas in a future version. Use pandas.concat instead.\n",
      "  df2 = df2.append(df1)\n"
     ]
    },
    {
     "name": "stdout",
     "output_type": "stream",
     "text": [
      "14-177 został dodany do listy\n"
     ]
    },
    {
     "name": "stderr",
     "output_type": "stream",
     "text": [
      "C:\\Users\\kawec\\AppData\\Local\\Temp\\ipykernel_11964\\3026143099.py:91: FutureWarning: The frame.append method is deprecated and will be removed from pandas in a future version. Use pandas.concat instead.\n",
      "  df2 = df2.append(df1)\n"
     ]
    },
    {
     "name": "stdout",
     "output_type": "stream",
     "text": [
      "32-401 został dodany do listy\n"
     ]
    },
    {
     "name": "stderr",
     "output_type": "stream",
     "text": [
      "C:\\Users\\kawec\\AppData\\Local\\Temp\\ipykernel_11964\\3026143099.py:91: FutureWarning: The frame.append method is deprecated and will be removed from pandas in a future version. Use pandas.concat instead.\n",
      "  df2 = df2.append(df1)\n"
     ]
    },
    {
     "name": "stdout",
     "output_type": "stream",
     "text": [
      "30-620 został dodany do listy\n"
     ]
    },
    {
     "name": "stderr",
     "output_type": "stream",
     "text": [
      "C:\\Users\\kawec\\AppData\\Local\\Temp\\ipykernel_11964\\3026143099.py:91: FutureWarning: The frame.append method is deprecated and will be removed from pandas in a future version. Use pandas.concat instead.\n",
      "  df2 = df2.append(df1)\n"
     ]
    },
    {
     "name": "stdout",
     "output_type": "stream",
     "text": [
      "30-372 został dodany do listy\n"
     ]
    },
    {
     "name": "stderr",
     "output_type": "stream",
     "text": [
      "C:\\Users\\kawec\\AppData\\Local\\Temp\\ipykernel_11964\\3026143099.py:91: FutureWarning: The frame.append method is deprecated and will be removed from pandas in a future version. Use pandas.concat instead.\n",
      "  df2 = df2.append(df1)\n"
     ]
    },
    {
     "name": "stdout",
     "output_type": "stream",
     "text": [
      "22-453 został dodany do listy\n"
     ]
    },
    {
     "name": "stderr",
     "output_type": "stream",
     "text": [
      "C:\\Users\\kawec\\AppData\\Local\\Temp\\ipykernel_11964\\3026143099.py:91: FutureWarning: The frame.append method is deprecated and will be removed from pandas in a future version. Use pandas.concat instead.\n",
      "  df2 = df2.append(df1)\n"
     ]
    },
    {
     "name": "stdout",
     "output_type": "stream",
     "text": [
      "22-436 został dodany do listy\n"
     ]
    },
    {
     "name": "stderr",
     "output_type": "stream",
     "text": [
      "C:\\Users\\kawec\\AppData\\Local\\Temp\\ipykernel_11964\\3026143099.py:91: FutureWarning: The frame.append method is deprecated and will be removed from pandas in a future version. Use pandas.concat instead.\n",
      "  df2 = df2.append(df1)\n"
     ]
    },
    {
     "name": "stdout",
     "output_type": "stream",
     "text": [
      "10-390 został dodany do listy\n"
     ]
    },
    {
     "name": "stderr",
     "output_type": "stream",
     "text": [
      "C:\\Users\\kawec\\AppData\\Local\\Temp\\ipykernel_11964\\3026143099.py:91: FutureWarning: The frame.append method is deprecated and will be removed from pandas in a future version. Use pandas.concat instead.\n",
      "  df2 = df2.append(df1)\n"
     ]
    },
    {
     "name": "stdout",
     "output_type": "stream",
     "text": [
      "16-345 został dodany do listy\n"
     ]
    },
    {
     "name": "stderr",
     "output_type": "stream",
     "text": [
      "C:\\Users\\kawec\\AppData\\Local\\Temp\\ipykernel_11964\\3026143099.py:91: FutureWarning: The frame.append method is deprecated and will be removed from pandas in a future version. Use pandas.concat instead.\n",
      "  df2 = df2.append(df1)\n"
     ]
    },
    {
     "name": "stdout",
     "output_type": "stream",
     "text": [
      "06-196 został dodany do listy\n"
     ]
    },
    {
     "name": "stderr",
     "output_type": "stream",
     "text": [
      "C:\\Users\\kawec\\AppData\\Local\\Temp\\ipykernel_11964\\3026143099.py:91: FutureWarning: The frame.append method is deprecated and will be removed from pandas in a future version. Use pandas.concat instead.\n",
      "  df2 = df2.append(df1)\n"
     ]
    },
    {
     "name": "stdout",
     "output_type": "stream",
     "text": [
      "04-500 został dodany do listy\n"
     ]
    },
    {
     "name": "stderr",
     "output_type": "stream",
     "text": [
      "C:\\Users\\kawec\\AppData\\Local\\Temp\\ipykernel_11964\\3026143099.py:91: FutureWarning: The frame.append method is deprecated and will be removed from pandas in a future version. Use pandas.concat instead.\n",
      "  df2 = df2.append(df1)\n"
     ]
    },
    {
     "name": "stdout",
     "output_type": "stream",
     "text": [
      "04-499 został dodany do listy\n"
     ]
    },
    {
     "name": "stderr",
     "output_type": "stream",
     "text": [
      "C:\\Users\\kawec\\AppData\\Local\\Temp\\ipykernel_11964\\3026143099.py:91: FutureWarning: The frame.append method is deprecated and will be removed from pandas in a future version. Use pandas.concat instead.\n",
      "  df2 = df2.append(df1)\n"
     ]
    },
    {
     "name": "stdout",
     "output_type": "stream",
     "text": [
      "32-393 został dodany do listy\n"
     ]
    },
    {
     "name": "stderr",
     "output_type": "stream",
     "text": [
      "C:\\Users\\kawec\\AppData\\Local\\Temp\\ipykernel_11964\\3026143099.py:91: FutureWarning: The frame.append method is deprecated and will be removed from pandas in a future version. Use pandas.concat instead.\n",
      "  df2 = df2.append(df1)\n"
     ]
    },
    {
     "name": "stdout",
     "output_type": "stream",
     "text": [
      "16-316 został dodany do listy\n"
     ]
    },
    {
     "name": "stderr",
     "output_type": "stream",
     "text": [
      "C:\\Users\\kawec\\AppData\\Local\\Temp\\ipykernel_11964\\3026143099.py:91: FutureWarning: The frame.append method is deprecated and will be removed from pandas in a future version. Use pandas.concat instead.\n",
      "  df2 = df2.append(df1)\n"
     ]
    },
    {
     "name": "stdout",
     "output_type": "stream",
     "text": [
      "16-315 został dodany do listy\n"
     ]
    },
    {
     "name": "stderr",
     "output_type": "stream",
     "text": [
      "C:\\Users\\kawec\\AppData\\Local\\Temp\\ipykernel_11964\\3026143099.py:91: FutureWarning: The frame.append method is deprecated and will be removed from pandas in a future version. Use pandas.concat instead.\n",
      "  df2 = df2.append(df1)\n"
     ]
    },
    {
     "name": "stdout",
     "output_type": "stream",
     "text": [
      "22-376 został dodany do listy\n"
     ]
    },
    {
     "name": "stderr",
     "output_type": "stream",
     "text": [
      "C:\\Users\\kawec\\AppData\\Local\\Temp\\ipykernel_11964\\3026143099.py:91: FutureWarning: The frame.append method is deprecated and will be removed from pandas in a future version. Use pandas.concat instead.\n",
      "  df2 = df2.append(df1)\n"
     ]
    },
    {
     "name": "stdout",
     "output_type": "stream",
     "text": [
      "18-229 został dodany do listy\n",
      "12-262 został dodany do listy\n"
     ]
    },
    {
     "name": "stderr",
     "output_type": "stream",
     "text": [
      "C:\\Users\\kawec\\AppData\\Local\\Temp\\ipykernel_11964\\3026143099.py:91: FutureWarning: The frame.append method is deprecated and will be removed from pandas in a future version. Use pandas.concat instead.\n",
      "  df2 = df2.append(df1)\n"
     ]
    }
   ],
   "source": [
    "#Nowy kod sprawdzający lokalizację\n",
    "\n",
    "for obiekt in Lista_obiektów:\n",
    "    try:\n",
    "        df = pd.read_html(f\"https://baza.paih.gov.pl/offer/detail/{obiekt}\")\n",
    "        a = df[0][df[0][\"Localization.1\"]=='Name of production hall:'].index.values\n",
    "        b = df[0][df[0][\"Localization.2\"]=='Site name and plot numbers'].index.values\n",
    "        c = df[0][df[0][\"Localization.2\"]=='Town / Commune'].index.values\n",
    "        d = df[0][df[0][\"Localization.2\"]=='Address (street, house number)'].index.values\n",
    "        e = df[0][df[0][\"Localization.2\"]=='District'].index.values\n",
    "        f = df[0][df[0][\"Localization.2\"]=='Province (Voivodship)'].index.values\n",
    "        g = df[0][df[0][\"Localization.2\"]=='The plot is a part of Special Economic Zone'].index.values\n",
    "        h = df[0][df[0][\"Localization.2\"]=='Special Economic Zone'].index.values\n",
    "        i = df[0][df[0][\"Localization.2\"]=='Technology/Industrial Park'].index.values\n",
    "        k = df[0][df[0][\"Localization.1\"]=='Name, surname:'].index.values\n",
    "        l = df[0][df[0][\"Localization.1\"]=='Phone:'].index.values\n",
    "        m = df[0][df[0][\"Localization.1\"]=='e-mail:'].index.values\n",
    "        n = df[0][df[0][\"Localization.2\"]=='Area [m²]'].index.values\n",
    "        o = df[0][df[0][\"Localization.2\"]=='Year of construction'].index.values\n",
    "        p = df[0][df[0][\"Localization.2\"]=='Height [m]'].index.values\n",
    "        r = df[0][df[0][\"Localization.2\"]=='Number of storeys'].index.values    \n",
    "        s = df[0][df[0][\"Localization.2\"]=='Floor carrying capacity [kg/m²]'].index.values\n",
    "        t = df[0][df[0][\"Localization.2\"]=='Floor car'].index.values\n",
    "        u = df[0][df[0][\"Localization.1\"]=='Total area of land [m²]:'].index.values\n",
    "        y = df[0][df[0][\"Localization.1\"]=='Nearest motorway / express road / national road'].index.values\n",
    "        z = df[0][df[0][\"Localization.1\"]=='Nearest province capital'].index.values\n",
    "        aa = df[0][df[0][\"Localization.1\"]=='Nearest international airport'].index.values\n",
    "        ab = df[0][df[0][\"Localization.1\"]=='Sea and river ports located up to 200 km'].index.values\n",
    "        ac = df[0][df[0][\"Localization.1\"]=='Railway line'].index.values\n",
    "        ae = df[0][df[0][\"Localization\"]=='Electricity'].index.values\n",
    "        af = df[0][df[0][\"Localization\"]=='Water for social purposes'].index.values\n",
    "        ag = df[0][df[0][\"Localization\"]=='Gas'].index.values\n",
    "        ah = df[0][df[0][\"Localization\"]=='Heating'].index.values\n",
    "        ai = df[0][df[0][\"Localization\"]=='Sewage discharge'].index.values\n",
    "        aj = df[0][df[0][\"Localization\"]=='Access road for trucks'].index.values\n",
    "        ak = df[0][df[0][\"Localization\"]=='Overhead cranes'].index.values\n",
    "        al = df[0][df[0][\"Localization\"]=='Railway siding'].index.values        \n",
    "        am = df[0][df[0][\"Localization.1\"]=='Ownership:'].index.values\n",
    "        an = df[0][df[0][\"Localization.1\"]=='Lease:'].index.values\n",
    "        ao = df[0][df[0][\"Localization.1\"]=='Price in PLN, including hall and land:'].index.values\n",
    "        ap = df[0][df[0][\"Localization.1\"]=='Forms of support at the local level:'].index.values\n",
    "        ass = df[0][df[0][\"Localization.1\"]=='Main owner type:'].index.values\n",
    "        at = df[0][df[0][\"Localization.1\"]=='Owner:'].index.values\n",
    "\n",
    "        \n",
    "\n",
    "\n",
    "\n",
    "\n",
    "        df1 = pd.DataFrame({\"Name of production hall\":formula_puste(df[0].iloc[spr(a),3]),\n",
    "                'Site name and plot numbers':formula_puste(df[0].iloc[spr(b),3]),\n",
    "                'Town / Commune':formula_puste(df[0].iloc[spr(c),3]),\n",
    "                'Address (street, house number)':formula_puste(df[0].iloc[spr(d),3]),\n",
    "                \"District\":formula_puste(df[0].iloc[spr(e),3]),\n",
    "                \"Province (Voivodship)\":formula_puste(df[0].iloc[spr(f),3]),\n",
    "                \"The plot is a part of Special Economic Zone\":formula_puste(df[0].iloc[spr(g),3]),\n",
    "                \"Special Economic Zone\":formula_puste(df[0].iloc[spr(h),3]),\n",
    "                \"Technology/Industrial Park\":formula_puste(df[0].iloc[spr(i),3]),\n",
    "                \"Name, surname\":formula_puste(df[0].iloc[spr(k),3]),\n",
    "                'Phone':formula_puste(df[0].iloc[spr(l),3]),       \n",
    "                'e-mail':formula_puste(df[0].iloc[spr(m),3]),\n",
    "                'Area [m²]':formula_puste(df[0].iloc[spr(n),3]),\n",
    "                \"Year of construction\":formula_puste(df[0].iloc[spr(o),3]),\n",
    "                \"Height [m]\":formula_puste(df[0].iloc[spr(p),3]),  \n",
    "                \"Number of storeys\":formula_puste(df[0].iloc[spr(r),3]),\n",
    "                \"Floor carrying capacity [kg/m²]\":formula_puste(df[0].iloc[spr(s),3]),\n",
    "                \"Floor car\":formula_puste(df[0].iloc[spr(t),3]),\n",
    "                \"Total area of land [m²]\":formula_puste(df[0].iloc[spr(u),3]),  \n",
    "                \"Nearest motorway / express road / national road\":formula_puste(df[0].iloc[y[0],3]),\n",
    "                \"Nearest province capital\":formula_puste(df[0].iloc[spr(z),3]),\n",
    "                \"Nearest international airport\":formula_puste(df[0].iloc[spr(aa),3]),\n",
    "                \"Sea and river ports located up to 200 km\":formula_puste(df[0].iloc[ab[0],3]),\n",
    "                \"Railway line\":formula_puste(df[0].iloc[ac[0],3]),\n",
    "                \"Electricity\":formula_puste(df[0].iloc[spr(ae),1]),\n",
    "                \"Water for social purposes\":formula_puste(df[0].iloc[spr(af),1]),\n",
    "                \"Gas\":formula_puste(df[0].iloc[spr(ag),1]),\n",
    "                \"Heating\":formula_puste(df[0].iloc[spr(ah),1]),\n",
    "                \"Sewage discharge\":formula_puste(df[0].iloc[spr(ai),1]),\n",
    "                \"Access road for trucks\":formula_puste(df[0].iloc[spr(aj),1]),\n",
    "                \"Overhead cranes\":formula_puste(df[0].iloc[spr(ak),1]),\n",
    "                \"Railway siding\":formula_puste(df[0].iloc[spr(al),1]),\n",
    "                \"Ownership\":formula_puste(df[0].iloc[spr(am),3]),\n",
    "                \"Lease\":formula_puste(df[0].iloc[spr(an),3]),\n",
    "                \"Price in PLN, including hall and land\":formula_puste(df[0].iloc[spr(ao),3]),\n",
    "                \"Forms of support at the local level\":formula_puste(df[0].iloc[spr(ap),3]),\n",
    "                \"Main owner type:\":formula_puste(df[0].iloc[spr(ass),3]),\n",
    "                \"Owner\":formula_puste(df[0].iloc[spr(at),3]),\n",
    "                \"Offer link:\": f\"https://baza.paih.gov.pl/offer/detail/{obiekt}\"}, index=[obiekt])\n",
    "\n",
    "\n",
    "        df2 = df2.append(df1)\n",
    "\n",
    "        print(f'{obiekt} został dodany do listy')\n",
    "    except Exception:\n",
    "            pass "
   ]
  },
  {
   "cell_type": "code",
   "execution_count": 10,
   "id": "a3086319-1c7a-4a13-a991-2e780de238fa",
   "metadata": {},
   "outputs": [
    {
     "data": {
      "text/html": [
       "<div>\n",
       "<style scoped>\n",
       "    .dataframe tbody tr th:only-of-type {\n",
       "        vertical-align: middle;\n",
       "    }\n",
       "\n",
       "    .dataframe tbody tr th {\n",
       "        vertical-align: top;\n",
       "    }\n",
       "\n",
       "    .dataframe thead th {\n",
       "        text-align: right;\n",
       "    }\n",
       "</style>\n",
       "<table border=\"1\" class=\"dataframe\">\n",
       "  <thead>\n",
       "    <tr style=\"text-align: right;\">\n",
       "      <th></th>\n",
       "      <th>Name of production hall</th>\n",
       "      <th>Site name and plot numbers</th>\n",
       "      <th>Town / Commune</th>\n",
       "      <th>Address (street, house number)</th>\n",
       "      <th>District</th>\n",
       "      <th>Province (Voivodship)</th>\n",
       "      <th>The plot is a part of Special Economic Zone</th>\n",
       "      <th>Special Economic Zone</th>\n",
       "      <th>Technology/Industrial Park</th>\n",
       "      <th>Name, surname</th>\n",
       "      <th>Phone</th>\n",
       "      <th>e-mail</th>\n",
       "      <th>Area [m²]</th>\n",
       "      <th>Year of construction</th>\n",
       "      <th>Height [m]</th>\n",
       "      <th>Number of storeys</th>\n",
       "      <th>Floor carrying capacity [kg/m²]</th>\n",
       "      <th>Floor car</th>\n",
       "      <th>Total area of land [m²]:</th>\n",
       "      <th>Nearest motorway / express road / national road</th>\n",
       "      <th>Nearest province capital</th>\n",
       "      <th>Nearest international airport</th>\n",
       "      <th>Sea and river ports located up to 200 km</th>\n",
       "      <th>Railway line</th>\n",
       "      <th>Electricity</th>\n",
       "      <th>Water for social purposes</th>\n",
       "      <th>Gas</th>\n",
       "      <th>Heating</th>\n",
       "      <th>Sewage discharge</th>\n",
       "      <th>Access road for trucks</th>\n",
       "      <th>Overhead cranes</th>\n",
       "      <th>Railway siding</th>\n",
       "      <th>Ownership:</th>\n",
       "      <th>Lease</th>\n",
       "      <th>Price in PLN, including hall and land</th>\n",
       "      <th>Forms of support at the local level</th>\n",
       "      <th>Main owner type</th>\n",
       "      <th>Owner</th>\n",
       "      <th>Total area of land [m²]</th>\n",
       "      <th>Ownership</th>\n",
       "      <th>Main owner type:</th>\n",
       "      <th>Offer link:</th>\n",
       "    </tr>\n",
       "  </thead>\n",
       "  <tbody>\n",
       "    <tr>\n",
       "      <th>1</th>\n",
       "      <td>Location</td>\n",
       "      <td>Location</td>\n",
       "      <td>Location</td>\n",
       "      <td>Location</td>\n",
       "      <td>Location</td>\n",
       "      <td>Location</td>\n",
       "      <td>Location</td>\n",
       "      <td>Location</td>\n",
       "      <td>Contact person</td>\n",
       "      <td>Mobile:</td>\n",
       "      <td>e-mail:</td>\n",
       "      <td>Basic data for production hall</td>\n",
       "      <td>Floor carrying capacity [kg/m²]</td>\n",
       "      <td>Excellent</td>\n",
       "      <td>Transport links</td>\n",
       "      <td>A1: 35 km</td>\n",
       "      <td>S7: 40 km</td>\n",
       "      <td>Gdansk International Airport (GDN): 75 km</td>\n",
       "      <td>Elblag Sea Port: 40 km</td>\n",
       "      <td>Gdynia Sea Port: 90 km</td>\n",
       "      <td>Malbork: 12 km</td>\n",
       "      <td>Sztum: 3 km</td>\n",
       "      <td>Existing infrastructure</td>\n",
       "      <td>NaN</td>\n",
       "      <td>NaN</td>\n",
       "      <td>NaN</td>\n",
       "      <td>NaN</td>\n",
       "      <td>NaN</td>\n",
       "      <td>NaN</td>\n",
       "      <td>Terms of acquisition</td>\n",
       "      <td>done</td>\n",
       "      <td>not_interested</td>\n",
       "      <td>not_interested</td>\n",
       "      <td>not_interested</td>\n",
       "      <td>not_interested</td>\n",
       "      <td>not_interested</td>\n",
       "      <td>NaN</td>\n",
       "      <td>done</td>\n",
       "      <td>NaN</td>\n",
       "      <td>NaN</td>\n",
       "      <td>NaN</td>\n",
       "      <td>NaN</td>\n",
       "    </tr>\n",
       "    <tr>\n",
       "      <th>22-285</th>\n",
       "      <td>7R Park Gdańsk II</td>\n",
       "      <td>7R Park Gdańsk II</td>\n",
       "      <td>Kolbudy</td>\n",
       "      <td>Magnacka</td>\n",
       "      <td>gdański</td>\n",
       "      <td>pomorskie</td>\n",
       "      <td>done</td>\n",
       "      <td>Pomeranian</td>\n",
       "      <td>7R</td>\n",
       "      <td>Igor Nagraba</td>\n",
       "      <td>58 740 43 00</td>\n",
       "      <td>i.nagraba@strefa.gda.pl</td>\n",
       "      <td>52355 m²</td>\n",
       "      <td>2020</td>\n",
       "      <td>10 m</td>\n",
       "      <td>1</td>\n",
       "      <td>7000 kg/m²</td>\n",
       "      <td>7R Park Gdańsk II</td>\n",
       "      <td>NaN</td>\n",
       "      <td>A1: 0 km</td>\n",
       "      <td>Gdańsk: 0 km</td>\n",
       "      <td>Gdansk International Airport (GDN): 5 km</td>\n",
       "      <td>Gdańsk: 10 km</td>\n",
       "      <td>Gdańsk: 7 km</td>\n",
       "      <td>done</td>\n",
       "      <td>done</td>\n",
       "      <td>done</td>\n",
       "      <td>done</td>\n",
       "      <td>done</td>\n",
       "      <td>done</td>\n",
       "      <td>not_interested</td>\n",
       "      <td>not_interested</td>\n",
       "      <td>NaN</td>\n",
       "      <td>done</td>\n",
       "      <td>15,50 PLN / m2</td>\n",
       "      <td>done</td>\n",
       "      <td>NaN</td>\n",
       "      <td>7R</td>\n",
       "      <td>52355 m²</td>\n",
       "      <td>done</td>\n",
       "      <td>Private owners</td>\n",
       "      <td>https://baza.paih.gov.pl/offer/detail/22-285</td>\n",
       "    </tr>\n",
       "    <tr>\n",
       "      <th>22-221</th>\n",
       "      <td>Sztum Koniecwald 83</td>\n",
       "      <td>Sztum Koniecwald 83</td>\n",
       "      <td>Sztum</td>\n",
       "      <td>Koniecwałd 83</td>\n",
       "      <td>sztumski</td>\n",
       "      <td>pomorskie</td>\n",
       "      <td>done</td>\n",
       "      <td>Pomeranian</td>\n",
       "      <td>Sztum PSEZ subzone</td>\n",
       "      <td>Paula Tęcza</td>\n",
       "      <td>+48587404350</td>\n",
       "      <td>p.tecza@strefa.gda.pl</td>\n",
       "      <td>2105.5 m²</td>\n",
       "      <td>2017</td>\n",
       "      <td>9 m</td>\n",
       "      <td>1</td>\n",
       "      <td>15000 kg/m²</td>\n",
       "      <td>Sztum Koniecwald 83</td>\n",
       "      <td>NaN</td>\n",
       "      <td>A1: 35 km</td>\n",
       "      <td>Gdansk: 65 km</td>\n",
       "      <td>Gdansk International Airport (GDN): 75 km</td>\n",
       "      <td>Elblag Sea Port: 40 km</td>\n",
       "      <td>Malbork: 12 km</td>\n",
       "      <td>done</td>\n",
       "      <td>done</td>\n",
       "      <td>done</td>\n",
       "      <td>done</td>\n",
       "      <td>done</td>\n",
       "      <td>done</td>\n",
       "      <td>not_interested</td>\n",
       "      <td>not_interested</td>\n",
       "      <td>NaN</td>\n",
       "      <td>not_interested</td>\n",
       "      <td>PLN 10 mln net including hall (2105.50 m2), of...</td>\n",
       "      <td>done</td>\n",
       "      <td>NaN</td>\n",
       "      <td>Module Technologies S.A.</td>\n",
       "      <td>10686 m²</td>\n",
       "      <td>done</td>\n",
       "      <td>Private owners</td>\n",
       "      <td>https://baza.paih.gov.pl/offer/detail/22-221</td>\n",
       "    </tr>\n",
       "    <tr>\n",
       "      <th>22-299</th>\n",
       "      <td>7R Park Tczew</td>\n",
       "      <td>7R Park Tczew</td>\n",
       "      <td>Tczew</td>\n",
       "      <td>Swarożyn, ul. Wyzwolenia 21</td>\n",
       "      <td>tczewski</td>\n",
       "      <td>pomorskie</td>\n",
       "      <td>done</td>\n",
       "      <td>Pomeranian</td>\n",
       "      <td>7R Tczew</td>\n",
       "      <td>Anna Korczak</td>\n",
       "      <td>669 507 010</td>\n",
       "      <td>a.korczak@strefa.gda.pl</td>\n",
       "      <td>96245 m²</td>\n",
       "      <td>2020</td>\n",
       "      <td>10 m</td>\n",
       "      <td>1</td>\n",
       "      <td>7000 kg/m²</td>\n",
       "      <td>7R Park Tczew</td>\n",
       "      <td>NaN</td>\n",
       "      <td>Motorway A1: 1 km</td>\n",
       "      <td>Tczew: 13 km</td>\n",
       "      <td>Gdańsk: 47 km</td>\n",
       "      <td>Gdańsk: 45 km</td>\n",
       "      <td>Swarożyn: 1.5 km</td>\n",
       "      <td>not_interested</td>\n",
       "      <td>done</td>\n",
       "      <td>done</td>\n",
       "      <td>done</td>\n",
       "      <td>done</td>\n",
       "      <td>done</td>\n",
       "      <td>not_interested</td>\n",
       "      <td>not_interested</td>\n",
       "      <td>NaN</td>\n",
       "      <td>done</td>\n",
       "      <td>13,2 PLN / m2</td>\n",
       "      <td>done</td>\n",
       "      <td>NaN</td>\n",
       "      <td>7R</td>\n",
       "      <td>96245 m²</td>\n",
       "      <td>done</td>\n",
       "      <td>Private owners</td>\n",
       "      <td>https://baza.paih.gov.pl/offer/detail/22-299</td>\n",
       "    </tr>\n",
       "    <tr>\n",
       "      <th>30-732</th>\n",
       "      <td>Production and storage hall</td>\n",
       "      <td>Krzywiń</td>\n",
       "      <td>Krzywiń</td>\n",
       "      <td>94 Kościańska Street</td>\n",
       "      <td>kościański</td>\n",
       "      <td>wielkopolskie</td>\n",
       "      <td>done</td>\n",
       "      <td>Kostrzyn-Słubice</td>\n",
       "      <td>No</td>\n",
       "      <td>Bogdan Marcinkowski</td>\n",
       "      <td>+48783993231</td>\n",
       "      <td>bogdan@bogmarc.pl</td>\n",
       "      <td>2233 m²</td>\n",
       "      <td>2014</td>\n",
       "      <td>6.5 m</td>\n",
       "      <td>1</td>\n",
       "      <td>1500 kg/m²</td>\n",
       "      <td>Production and storage hall</td>\n",
       "      <td>NaN</td>\n",
       "      <td>Express Road No. S8: 25 km</td>\n",
       "      <td>Poznań: 55 km</td>\n",
       "      <td>Poznań Ławica: 65 km</td>\n",
       "      <td>Głogów: 70 km</td>\n",
       "      <td>Kościan: 20 km</td>\n",
       "      <td>done</td>\n",
       "      <td>done</td>\n",
       "      <td>done</td>\n",
       "      <td>not_interested</td>\n",
       "      <td>not_interested</td>\n",
       "      <td>done</td>\n",
       "      <td>not_interested</td>\n",
       "      <td>not_interested</td>\n",
       "      <td>NaN</td>\n",
       "      <td>done</td>\n",
       "      <td>16 PLN</td>\n",
       "      <td>done</td>\n",
       "      <td>NaN</td>\n",
       "      <td>Zakład Rzeźnicki Bogdan Marcinkowski</td>\n",
       "      <td>8508 m²</td>\n",
       "      <td>not_interested</td>\n",
       "      <td>Private owners</td>\n",
       "      <td>https://baza.paih.gov.pl/offer/detail/30-732</td>\n",
       "    </tr>\n",
       "    <tr>\n",
       "      <th>...</th>\n",
       "      <td>...</td>\n",
       "      <td>...</td>\n",
       "      <td>...</td>\n",
       "      <td>...</td>\n",
       "      <td>...</td>\n",
       "      <td>...</td>\n",
       "      <td>...</td>\n",
       "      <td>...</td>\n",
       "      <td>...</td>\n",
       "      <td>...</td>\n",
       "      <td>...</td>\n",
       "      <td>...</td>\n",
       "      <td>...</td>\n",
       "      <td>...</td>\n",
       "      <td>...</td>\n",
       "      <td>...</td>\n",
       "      <td>...</td>\n",
       "      <td>...</td>\n",
       "      <td>...</td>\n",
       "      <td>...</td>\n",
       "      <td>...</td>\n",
       "      <td>...</td>\n",
       "      <td>...</td>\n",
       "      <td>...</td>\n",
       "      <td>...</td>\n",
       "      <td>...</td>\n",
       "      <td>...</td>\n",
       "      <td>...</td>\n",
       "      <td>...</td>\n",
       "      <td>...</td>\n",
       "      <td>...</td>\n",
       "      <td>...</td>\n",
       "      <td>...</td>\n",
       "      <td>...</td>\n",
       "      <td>...</td>\n",
       "      <td>...</td>\n",
       "      <td>...</td>\n",
       "      <td>...</td>\n",
       "      <td>...</td>\n",
       "      <td>...</td>\n",
       "      <td>...</td>\n",
       "      <td>...</td>\n",
       "    </tr>\n",
       "    <tr>\n",
       "      <th>16-316</th>\n",
       "      <td>Ligota Tułowicka</td>\n",
       "      <td>Ligota Tułowicka</td>\n",
       "      <td>Tułowice</td>\n",
       "      <td>Ligota Tułowicka</td>\n",
       "      <td>opolski</td>\n",
       "      <td>opolskie</td>\n",
       "      <td>done</td>\n",
       "      <td>Wałbrzych \"Invest Park\"</td>\n",
       "      <td>No</td>\n",
       "      <td>Piotr Regeńczuk</td>\n",
       "      <td>+48774033648</td>\n",
       "      <td>invest@ocrg.opolskie.pl</td>\n",
       "      <td>318 m²</td>\n",
       "      <td>2018</td>\n",
       "      <td>3 m</td>\n",
       "      <td>1</td>\n",
       "      <td>1000 kg/m²</td>\n",
       "      <td>Ligota Tułowicka</td>\n",
       "      <td>NaN</td>\n",
       "      <td>A4 motorway: 13 km</td>\n",
       "      <td>Opole: 32 km</td>\n",
       "      <td>Wrocław: 120 km</td>\n",
       "      <td>Opole: 35 km</td>\n",
       "      <td>Tułowice : 3 km</td>\n",
       "      <td>done</td>\n",
       "      <td>done</td>\n",
       "      <td>not_interested</td>\n",
       "      <td>done</td>\n",
       "      <td>done</td>\n",
       "      <td>done</td>\n",
       "      <td>not_interested</td>\n",
       "      <td>not_interested</td>\n",
       "      <td>NaN</td>\n",
       "      <td>not_interested</td>\n",
       "      <td>3 700 000</td>\n",
       "      <td>not_interested</td>\n",
       "      <td>NaN</td>\n",
       "      <td>Company</td>\n",
       "      <td>7435 m²</td>\n",
       "      <td>done</td>\n",
       "      <td>Private owners</td>\n",
       "      <td>https://baza.paih.gov.pl/offer/detail/16-316</td>\n",
       "    </tr>\n",
       "    <tr>\n",
       "      <th>16-315</th>\n",
       "      <td>Tułowice</td>\n",
       "      <td>Fabstyl</td>\n",
       "      <td>Tułowice</td>\n",
       "      <td>Porcelanowa 2F</td>\n",
       "      <td>opolski</td>\n",
       "      <td>opolskie</td>\n",
       "      <td>done</td>\n",
       "      <td>Wałbrzych \"Invest Park\"</td>\n",
       "      <td>No</td>\n",
       "      <td>Piotr Regeńczuk</td>\n",
       "      <td>+48774033648</td>\n",
       "      <td>invest@ocrg.opolskie.pl</td>\n",
       "      <td>1476 m²</td>\n",
       "      <td>190</td>\n",
       "      <td>3 m</td>\n",
       "      <td>3</td>\n",
       "      <td>1000 kg/m²</td>\n",
       "      <td>Tułowice</td>\n",
       "      <td>NaN</td>\n",
       "      <td>A4 motorway: 10 km</td>\n",
       "      <td>Opole: 28 km</td>\n",
       "      <td>Wrocław: 95 km</td>\n",
       "      <td>Opole: 35 km</td>\n",
       "      <td>Tułowice: 0.2 km</td>\n",
       "      <td>done</td>\n",
       "      <td>done</td>\n",
       "      <td>not_interested</td>\n",
       "      <td>done</td>\n",
       "      <td>done</td>\n",
       "      <td>done</td>\n",
       "      <td>not_interested</td>\n",
       "      <td>not_interested</td>\n",
       "      <td>NaN</td>\n",
       "      <td>not_interested</td>\n",
       "      <td>3 250 000</td>\n",
       "      <td>not_interested</td>\n",
       "      <td>NaN</td>\n",
       "      <td>Company</td>\n",
       "      <td>923 m²</td>\n",
       "      <td>done</td>\n",
       "      <td>Private owners</td>\n",
       "      <td>https://baza.paih.gov.pl/offer/detail/16-315</td>\n",
       "    </tr>\n",
       "    <tr>\n",
       "      <th>22-376</th>\n",
       "      <td>FESMA Investments</td>\n",
       "      <td>no 60/9, no 60/14, no 60/10, no 60/15, no 47/3...</td>\n",
       "      <td>Starogard Gdański</td>\n",
       "      <td>ul. Ceynowy 27</td>\n",
       "      <td>starogardzki</td>\n",
       "      <td>pomorskie</td>\n",
       "      <td>done</td>\n",
       "      <td>Pomeranian</td>\n",
       "      <td>No</td>\n",
       "      <td>Anna Korczak</td>\n",
       "      <td>669 507 010</td>\n",
       "      <td>a.korczak@strefa.gda.pl</td>\n",
       "      <td>22669 m²</td>\n",
       "      <td>1985</td>\n",
       "      <td>10 m</td>\n",
       "      <td>2</td>\n",
       "      <td>5000 kg/m²</td>\n",
       "      <td>FESMA Investments</td>\n",
       "      <td>NaN</td>\n",
       "      <td>A1: 13 km</td>\n",
       "      <td>Gdańsk: 50 km</td>\n",
       "      <td>GDN: 60 km</td>\n",
       "      <td>Gdańsk: 55 km</td>\n",
       "      <td>Starogard Gdański: 2 km</td>\n",
       "      <td>done</td>\n",
       "      <td>done</td>\n",
       "      <td>done</td>\n",
       "      <td>done</td>\n",
       "      <td>done</td>\n",
       "      <td>done</td>\n",
       "      <td>done</td>\n",
       "      <td>done</td>\n",
       "      <td>NaN</td>\n",
       "      <td>not_interested</td>\n",
       "      <td>6 200 000,00 netto PLN</td>\n",
       "      <td>done</td>\n",
       "      <td>NaN</td>\n",
       "      <td>Private owner</td>\n",
       "      <td>22669 m²</td>\n",
       "      <td>done</td>\n",
       "      <td>Private owners</td>\n",
       "      <td>https://baza.paih.gov.pl/offer/detail/22-376</td>\n",
       "    </tr>\n",
       "    <tr>\n",
       "      <th>18-229</th>\n",
       "      <td>Novo Park</td>\n",
       "      <td>Logistic and Industrial Park</td>\n",
       "      <td>Nisko</td>\n",
       "      <td>Nowosielec</td>\n",
       "      <td>niżański</td>\n",
       "      <td>podkarpackie</td>\n",
       "      <td>done</td>\n",
       "      <td>Tarnobrzeg \"Euro-Park\"</td>\n",
       "      <td>Novo Park</td>\n",
       "      <td>Mariusz Całka</td>\n",
       "      <td>+ 48 17 777 61 83</td>\n",
       "      <td>mariusz.calka@stalbud.org.pl</td>\n",
       "      <td>27000 m²</td>\n",
       "      <td>2022</td>\n",
       "      <td>12 m</td>\n",
       "      <td>1</td>\n",
       "      <td>6000 kg/m²</td>\n",
       "      <td>Novo Park</td>\n",
       "      <td>NaN</td>\n",
       "      <td>S19: 0.5 km</td>\n",
       "      <td>Rzeszów: 60 km</td>\n",
       "      <td>Rzeszów - Jasionka: 50 km</td>\n",
       "      <td>Góra Kalwaria: 200 km</td>\n",
       "      <td>Nowosielec : 0.1 km</td>\n",
       "      <td>done</td>\n",
       "      <td>done</td>\n",
       "      <td>done</td>\n",
       "      <td>done</td>\n",
       "      <td>done</td>\n",
       "      <td>done</td>\n",
       "      <td>done</td>\n",
       "      <td>done</td>\n",
       "      <td>NaN</td>\n",
       "      <td>done</td>\n",
       "      <td>Lease: 20 PLN/m2</td>\n",
       "      <td>done</td>\n",
       "      <td>NaN</td>\n",
       "      <td>Novo Park</td>\n",
       "      <td>52000 m²</td>\n",
       "      <td>done</td>\n",
       "      <td>Private owners</td>\n",
       "      <td>https://baza.paih.gov.pl/offer/detail/18-229</td>\n",
       "    </tr>\n",
       "    <tr>\n",
       "      <th>12-262</th>\n",
       "      <td>Kraków, Business Park Nad Drwiną - sheds</td>\n",
       "      <td>Registration unit: Podgórze, precinct: P -105,...</td>\n",
       "      <td>Kraków</td>\n",
       "      <td>Kraków, ul. Nad Drwiną 10</td>\n",
       "      <td>Kraków</td>\n",
       "      <td>małopolskie</td>\n",
       "      <td>done</td>\n",
       "      <td>Kraków Technology Park</td>\n",
       "      <td>Business Park</td>\n",
       "      <td>Wiesław Wyrwa</td>\n",
       "      <td>+48 12 653 55 33</td>\n",
       "      <td>wieslaw.wyrwa@marr.pl</td>\n",
       "      <td>1336.5 m²</td>\n",
       "      <td>1986</td>\n",
       "      <td>4 m</td>\n",
       "      <td>0</td>\n",
       "      <td>0 kg/m²</td>\n",
       "      <td>Kraków, Business Park Nad Drwiną - sheds</td>\n",
       "      <td>NaN</td>\n",
       "      <td>Express road - S7: 3 km</td>\n",
       "      <td>Kraków: 7.5 km</td>\n",
       "      <td>Airport - Balice: 29 km</td>\n",
       "      <td>Sea port - Gdańsk: 620 km</td>\n",
       "      <td>Kraków - Bieżanów: 5 km</td>\n",
       "      <td>done</td>\n",
       "      <td>not_interested</td>\n",
       "      <td>not_interested</td>\n",
       "      <td>not_interested</td>\n",
       "      <td>done</td>\n",
       "      <td>done</td>\n",
       "      <td>not_interested</td>\n",
       "      <td>not_interested</td>\n",
       "      <td>NaN</td>\n",
       "      <td>done</td>\n",
       "      <td>7 PLN / 1 sq. m + 23 % VAT / 1 month</td>\n",
       "      <td>not_interested</td>\n",
       "      <td>NaN</td>\n",
       "      <td>Małopolska Regional Development Agency</td>\n",
       "      <td>225000 m²</td>\n",
       "      <td>Kraków, Business Park Nad Drwiną - sheds</td>\n",
       "      <td>Private owners</td>\n",
       "      <td>https://baza.paih.gov.pl/offer/detail/12-262</td>\n",
       "    </tr>\n",
       "  </tbody>\n",
       "</table>\n",
       "<p>65 rows × 42 columns</p>\n",
       "</div>"
      ],
      "text/plain": [
       "                         Name of production hall  \\\n",
       "1                                       Location   \n",
       "22-285                         7R Park Gdańsk II   \n",
       "22-221                       Sztum Koniecwald 83   \n",
       "22-299                             7R Park Tczew   \n",
       "30-732               Production and storage hall   \n",
       "...                                          ...   \n",
       "16-316                          Ligota Tułowicka   \n",
       "16-315                                  Tułowice   \n",
       "22-376                         FESMA Investments   \n",
       "18-229                                 Novo Park   \n",
       "12-262  Kraków, Business Park Nad Drwiną - sheds   \n",
       "\n",
       "                               Site name and plot numbers     Town / Commune  \\\n",
       "1                                                Location           Location   \n",
       "22-285                                  7R Park Gdańsk II            Kolbudy   \n",
       "22-221                                Sztum Koniecwald 83              Sztum   \n",
       "22-299                                      7R Park Tczew              Tczew   \n",
       "30-732                                            Krzywiń            Krzywiń   \n",
       "...                                                   ...                ...   \n",
       "16-316                                   Ligota Tułowicka           Tułowice   \n",
       "16-315                                            Fabstyl           Tułowice   \n",
       "22-376  no 60/9, no 60/14, no 60/10, no 60/15, no 47/3...  Starogard Gdański   \n",
       "18-229                       Logistic and Industrial Park              Nisko   \n",
       "12-262  Registration unit: Podgórze, precinct: P -105,...             Kraków   \n",
       "\n",
       "       Address (street, house number)      District Province (Voivodship)  \\\n",
       "1                            Location      Location              Location   \n",
       "22-285                       Magnacka       gdański             pomorskie   \n",
       "22-221                  Koniecwałd 83      sztumski             pomorskie   \n",
       "22-299    Swarożyn, ul. Wyzwolenia 21      tczewski             pomorskie   \n",
       "30-732           94 Kościańska Street    kościański         wielkopolskie   \n",
       "...                               ...           ...                   ...   \n",
       "16-316               Ligota Tułowicka       opolski              opolskie   \n",
       "16-315                 Porcelanowa 2F       opolski              opolskie   \n",
       "22-376                 ul. Ceynowy 27  starogardzki             pomorskie   \n",
       "18-229                     Nowosielec      niżański          podkarpackie   \n",
       "12-262      Kraków, ul. Nad Drwiną 10        Kraków           małopolskie   \n",
       "\n",
       "       The plot is a part of Special Economic Zone    Special Economic Zone  \\\n",
       "1                                         Location                 Location   \n",
       "22-285                                        done               Pomeranian   \n",
       "22-221                                        done               Pomeranian   \n",
       "22-299                                        done               Pomeranian   \n",
       "30-732                                        done         Kostrzyn-Słubice   \n",
       "...                                            ...                      ...   \n",
       "16-316                                        done  Wałbrzych \"Invest Park\"   \n",
       "16-315                                        done  Wałbrzych \"Invest Park\"   \n",
       "22-376                                        done               Pomeranian   \n",
       "18-229                                        done   Tarnobrzeg \"Euro-Park\"   \n",
       "12-262                                        done   Kraków Technology Park   \n",
       "\n",
       "       Technology/Industrial Park        Name, surname              Phone  \\\n",
       "1                  Contact person              Mobile:            e-mail:   \n",
       "22-285                         7R         Igor Nagraba       58 740 43 00   \n",
       "22-221         Sztum PSEZ subzone          Paula Tęcza       +48587404350   \n",
       "22-299                   7R Tczew         Anna Korczak        669 507 010   \n",
       "30-732                         No  Bogdan Marcinkowski       +48783993231   \n",
       "...                           ...                  ...                ...   \n",
       "16-316                         No      Piotr Regeńczuk       +48774033648   \n",
       "16-315                         No      Piotr Regeńczuk       +48774033648   \n",
       "22-376                         No         Anna Korczak        669 507 010   \n",
       "18-229                  Novo Park        Mariusz Całka  + 48 17 777 61 83   \n",
       "12-262              Business Park        Wiesław Wyrwa   +48 12 653 55 33   \n",
       "\n",
       "                                e-mail                        Area [m²]  \\\n",
       "1       Basic data for production hall  Floor carrying capacity [kg/m²]   \n",
       "22-285         i.nagraba@strefa.gda.pl                         52355 m²   \n",
       "22-221           p.tecza@strefa.gda.pl                        2105.5 m²   \n",
       "22-299         a.korczak@strefa.gda.pl                         96245 m²   \n",
       "30-732               bogdan@bogmarc.pl                          2233 m²   \n",
       "...                                ...                              ...   \n",
       "16-316         invest@ocrg.opolskie.pl                           318 m²   \n",
       "16-315         invest@ocrg.opolskie.pl                          1476 m²   \n",
       "22-376         a.korczak@strefa.gda.pl                         22669 m²   \n",
       "18-229    mariusz.calka@stalbud.org.pl                         27000 m²   \n",
       "12-262           wieslaw.wyrwa@marr.pl                        1336.5 m²   \n",
       "\n",
       "       Year of construction       Height [m] Number of storeys  \\\n",
       "1                 Excellent  Transport links         A1: 35 km   \n",
       "22-285                 2020             10 m                 1   \n",
       "22-221                 2017              9 m                 1   \n",
       "22-299                 2020             10 m                 1   \n",
       "30-732                 2014            6.5 m                 1   \n",
       "...                     ...              ...               ...   \n",
       "16-316                 2018              3 m                 1   \n",
       "16-315                  190              3 m                 3   \n",
       "22-376                 1985             10 m                 2   \n",
       "18-229                 2022             12 m                 1   \n",
       "12-262                 1986              4 m                 0   \n",
       "\n",
       "       Floor carrying capacity [kg/m²]  \\\n",
       "1                            S7: 40 km   \n",
       "22-285                      7000 kg/m²   \n",
       "22-221                     15000 kg/m²   \n",
       "22-299                      7000 kg/m²   \n",
       "30-732                      1500 kg/m²   \n",
       "...                                ...   \n",
       "16-316                      1000 kg/m²   \n",
       "16-315                      1000 kg/m²   \n",
       "22-376                      5000 kg/m²   \n",
       "18-229                      6000 kg/m²   \n",
       "12-262                         0 kg/m²   \n",
       "\n",
       "                                        Floor car Total area of land [m²]:  \\\n",
       "1       Gdansk International Airport (GDN): 75 km   Elblag Sea Port: 40 km   \n",
       "22-285                          7R Park Gdańsk II                      NaN   \n",
       "22-221                        Sztum Koniecwald 83                      NaN   \n",
       "22-299                              7R Park Tczew                      NaN   \n",
       "30-732                Production and storage hall                      NaN   \n",
       "...                                           ...                      ...   \n",
       "16-316                           Ligota Tułowicka                      NaN   \n",
       "16-315                                   Tułowice                      NaN   \n",
       "22-376                          FESMA Investments                      NaN   \n",
       "18-229                                  Novo Park                      NaN   \n",
       "12-262   Kraków, Business Park Nad Drwiną - sheds                      NaN   \n",
       "\n",
       "       Nearest motorway / express road / national road  \\\n",
       "1                               Gdynia Sea Port: 90 km   \n",
       "22-285                                        A1: 0 km   \n",
       "22-221                                       A1: 35 km   \n",
       "22-299                               Motorway A1: 1 km   \n",
       "30-732                      Express Road No. S8: 25 km   \n",
       "...                                                ...   \n",
       "16-316                              A4 motorway: 13 km   \n",
       "16-315                              A4 motorway: 10 km   \n",
       "22-376                                       A1: 13 km   \n",
       "18-229                                     S19: 0.5 km   \n",
       "12-262                         Express road - S7: 3 km   \n",
       "\n",
       "       Nearest province capital              Nearest international airport  \\\n",
       "1                Malbork: 12 km                                Sztum: 3 km   \n",
       "22-285             Gdańsk: 0 km   Gdansk International Airport (GDN): 5 km   \n",
       "22-221            Gdansk: 65 km  Gdansk International Airport (GDN): 75 km   \n",
       "22-299             Tczew: 13 km                              Gdańsk: 47 km   \n",
       "30-732            Poznań: 55 km                       Poznań Ławica: 65 km   \n",
       "...                         ...                                        ...   \n",
       "16-316             Opole: 32 km                            Wrocław: 120 km   \n",
       "16-315             Opole: 28 km                             Wrocław: 95 km   \n",
       "22-376            Gdańsk: 50 km                                 GDN: 60 km   \n",
       "18-229           Rzeszów: 60 km                  Rzeszów - Jasionka: 50 km   \n",
       "12-262           Kraków: 7.5 km                    Airport - Balice: 29 km   \n",
       "\n",
       "       Sea and river ports located up to 200 km             Railway line  \\\n",
       "1                       Existing infrastructure                      NaN   \n",
       "22-285                            Gdańsk: 10 km             Gdańsk: 7 km   \n",
       "22-221                   Elblag Sea Port: 40 km           Malbork: 12 km   \n",
       "22-299                            Gdańsk: 45 km         Swarożyn: 1.5 km   \n",
       "30-732                            Głogów: 70 km           Kościan: 20 km   \n",
       "...                                         ...                      ...   \n",
       "16-316                             Opole: 35 km          Tułowice : 3 km   \n",
       "16-315                             Opole: 35 km         Tułowice: 0.2 km   \n",
       "22-376                            Gdańsk: 55 km  Starogard Gdański: 2 km   \n",
       "18-229                    Góra Kalwaria: 200 km      Nowosielec : 0.1 km   \n",
       "12-262                Sea port - Gdańsk: 620 km  Kraków - Bieżanów: 5 km   \n",
       "\n",
       "           Electricity Water for social purposes             Gas  \\\n",
       "1                  NaN                       NaN             NaN   \n",
       "22-285            done                      done            done   \n",
       "22-221            done                      done            done   \n",
       "22-299  not_interested                      done            done   \n",
       "30-732            done                      done            done   \n",
       "...                ...                       ...             ...   \n",
       "16-316            done                      done  not_interested   \n",
       "16-315            done                      done  not_interested   \n",
       "22-376            done                      done            done   \n",
       "18-229            done                      done            done   \n",
       "12-262            done            not_interested  not_interested   \n",
       "\n",
       "               Heating Sewage discharge Access road for trucks  \\\n",
       "1                  NaN              NaN   Terms of acquisition   \n",
       "22-285            done             done                   done   \n",
       "22-221            done             done                   done   \n",
       "22-299            done             done                   done   \n",
       "30-732  not_interested   not_interested                   done   \n",
       "...                ...              ...                    ...   \n",
       "16-316            done             done                   done   \n",
       "16-315            done             done                   done   \n",
       "22-376            done             done                   done   \n",
       "18-229            done             done                   done   \n",
       "12-262  not_interested             done                   done   \n",
       "\n",
       "       Overhead cranes  Railway siding      Ownership:           Lease  \\\n",
       "1                 done  not_interested  not_interested  not_interested   \n",
       "22-285  not_interested  not_interested             NaN            done   \n",
       "22-221  not_interested  not_interested             NaN  not_interested   \n",
       "22-299  not_interested  not_interested             NaN            done   \n",
       "30-732  not_interested  not_interested             NaN            done   \n",
       "...                ...             ...             ...             ...   \n",
       "16-316  not_interested  not_interested             NaN  not_interested   \n",
       "16-315  not_interested  not_interested             NaN  not_interested   \n",
       "22-376            done            done             NaN  not_interested   \n",
       "18-229            done            done             NaN            done   \n",
       "12-262  not_interested  not_interested             NaN            done   \n",
       "\n",
       "                    Price in PLN, including hall and land  \\\n",
       "1                                          not_interested   \n",
       "22-285                                     15,50 PLN / m2   \n",
       "22-221  PLN 10 mln net including hall (2105.50 m2), of...   \n",
       "22-299                                      13,2 PLN / m2   \n",
       "30-732                                             16 PLN   \n",
       "...                                                   ...   \n",
       "16-316                                          3 700 000   \n",
       "16-315                                          3 250 000   \n",
       "22-376                             6 200 000,00 netto PLN   \n",
       "18-229                                   Lease: 20 PLN/m2   \n",
       "12-262               7 PLN / 1 sq. m + 23 % VAT / 1 month   \n",
       "\n",
       "       Forms of support at the local level  Main owner type  \\\n",
       "1                           not_interested              NaN   \n",
       "22-285                                done              NaN   \n",
       "22-221                                done              NaN   \n",
       "22-299                                done              NaN   \n",
       "30-732                                done              NaN   \n",
       "...                                    ...              ...   \n",
       "16-316                      not_interested              NaN   \n",
       "16-315                      not_interested              NaN   \n",
       "22-376                                done              NaN   \n",
       "18-229                                done              NaN   \n",
       "12-262                      not_interested              NaN   \n",
       "\n",
       "                                         Owner Total area of land [m²]  \\\n",
       "1                                         done                     NaN   \n",
       "22-285                                      7R                52355 m²   \n",
       "22-221                Module Technologies S.A.                10686 m²   \n",
       "22-299                                      7R                96245 m²   \n",
       "30-732    Zakład Rzeźnicki Bogdan Marcinkowski                 8508 m²   \n",
       "...                                        ...                     ...   \n",
       "16-316                                 Company                 7435 m²   \n",
       "16-315                                 Company                  923 m²   \n",
       "22-376                           Private owner                22669 m²   \n",
       "18-229                               Novo Park                52000 m²   \n",
       "12-262  Małopolska Regional Development Agency               225000 m²   \n",
       "\n",
       "                                       Ownership Main owner type:  \\\n",
       "1                                            NaN              NaN   \n",
       "22-285                                      done   Private owners   \n",
       "22-221                                      done   Private owners   \n",
       "22-299                                      done   Private owners   \n",
       "30-732                            not_interested   Private owners   \n",
       "...                                          ...              ...   \n",
       "16-316                                      done   Private owners   \n",
       "16-315                                      done   Private owners   \n",
       "22-376                                      done   Private owners   \n",
       "18-229                                      done   Private owners   \n",
       "12-262  Kraków, Business Park Nad Drwiną - sheds   Private owners   \n",
       "\n",
       "                                         Offer link:  \n",
       "1                                                NaN  \n",
       "22-285  https://baza.paih.gov.pl/offer/detail/22-285  \n",
       "22-221  https://baza.paih.gov.pl/offer/detail/22-221  \n",
       "22-299  https://baza.paih.gov.pl/offer/detail/22-299  \n",
       "30-732  https://baza.paih.gov.pl/offer/detail/30-732  \n",
       "...                                              ...  \n",
       "16-316  https://baza.paih.gov.pl/offer/detail/16-316  \n",
       "16-315  https://baza.paih.gov.pl/offer/detail/16-315  \n",
       "22-376  https://baza.paih.gov.pl/offer/detail/22-376  \n",
       "18-229  https://baza.paih.gov.pl/offer/detail/18-229  \n",
       "12-262  https://baza.paih.gov.pl/offer/detail/12-262  \n",
       "\n",
       "[65 rows x 42 columns]"
      ]
     },
     "execution_count": 10,
     "metadata": {},
     "output_type": "execute_result"
    }
   ],
   "source": [
    "df2"
   ]
  },
  {
   "cell_type": "code",
   "execution_count": 11,
   "id": "4b768571-5727-438b-8b1b-d785a0106332",
   "metadata": {},
   "outputs": [],
   "source": [
    "df2.to_excel(\"Przykład_dane_magazynowe.xlsx\")"
   ]
  },
  {
   "cell_type": "code",
   "execution_count": null,
   "id": "0e986723-7cd3-4e50-8e1f-2e8a50b03c5d",
   "metadata": {},
   "outputs": [],
   "source": []
  }
 ],
 "metadata": {
  "kernelspec": {
   "display_name": "Python 3 (ipykernel)",
   "language": "python",
   "name": "python3"
  },
  "language_info": {
   "codemirror_mode": {
    "name": "ipython",
    "version": 3
   },
   "file_extension": ".py",
   "mimetype": "text/x-python",
   "name": "python",
   "nbconvert_exporter": "python",
   "pygments_lexer": "ipython3",
   "version": "3.10.9"
  }
 },
 "nbformat": 4,
 "nbformat_minor": 5
}
